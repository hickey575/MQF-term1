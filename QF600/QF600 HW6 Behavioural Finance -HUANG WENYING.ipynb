{
 "cells": [
  {
   "cell_type": "code",
   "execution_count": 1,
   "id": "2ece7ad5",
   "metadata": {},
   "outputs": [],
   "source": [
    "import numpy as np\n",
    "import matplotlib.pyplot as plt\n",
    "import pandas as pd\n",
    "from scipy.stats import linregress\n",
    "from sklearn import linear_model\n",
    "import random"
   ]
  },
  {
   "cell_type": "code",
   "execution_count": 13,
   "id": "786638cd",
   "metadata": {},
   "outputs": [
    {
     "data": {
      "text/plain": [
       "array([1.02309733, 0.97546508, 0.99167038, ..., 1.00941166, 1.03506211,\n",
       "       1.03307453])"
      ]
     },
     "execution_count": 13,
     "metadata": {},
     "output_type": "execute_result"
    }
   ],
   "source": [
    "epsilon = np.random.normal(0, 1, 10000)\n",
    "\n",
    "g = np.exp(0.02 + (0.02*epsilon)) # consumption growth\n",
    "g"
   ]
  },
  {
   "cell_type": "code",
   "execution_count": 3,
   "id": "32dd238a",
   "metadata": {},
   "outputs": [],
   "source": [
    "rf = 1.0303"
   ]
  },
  {
   "cell_type": "code",
   "execution_count": 14,
   "id": "b7476af7",
   "metadata": {},
   "outputs": [
    {
     "data": {
      "text/plain": [
       "array([ 0. ,  0.1,  0.2,  0.3,  0.4,  0.5,  0.6,  0.7,  0.8,  0.9,  1. ,\n",
       "        1.1,  1.2,  1.3,  1.4,  1.5,  1.6,  1.7,  1.8,  1.9,  2. ,  2.1,\n",
       "        2.2,  2.3,  2.4,  2.5,  2.6,  2.7,  2.8,  2.9,  3. ,  3.1,  3.2,\n",
       "        3.3,  3.4,  3.5,  3.6,  3.7,  3.8,  3.9,  4. ,  4.1,  4.2,  4.3,\n",
       "        4.4,  4.5,  4.6,  4.7,  4.8,  4.9,  5. ,  5.1,  5.2,  5.3,  5.4,\n",
       "        5.5,  5.6,  5.7,  5.8,  5.9,  6. ,  6.1,  6.2,  6.3,  6.4,  6.5,\n",
       "        6.6,  6.7,  6.8,  6.9,  7. ,  7.1,  7.2,  7.3,  7.4,  7.5,  7.6,\n",
       "        7.7,  7.8,  7.9,  8. ,  8.1,  8.2,  8.3,  8.4,  8.5,  8.6,  8.7,\n",
       "        8.8,  8.9,  9. ,  9.1,  9.2,  9.3,  9.4,  9.5,  9.6,  9.7,  9.8,\n",
       "        9.9, 10. ])"
      ]
     },
     "execution_count": 14,
     "metadata": {},
     "output_type": "execute_result"
    }
   ],
   "source": [
    "b0 = np.arange(0, 10.1, 0.1)\n",
    "b0"
   ]
  },
  {
   "cell_type": "code",
   "execution_count": 5,
   "id": "c975ee09",
   "metadata": {},
   "outputs": [
    {
     "data": {
      "text/plain": [
       "1.05"
      ]
     },
     "execution_count": 5,
     "metadata": {},
     "output_type": "execute_result"
    }
   ],
   "source": [
    "x_minus = 1\n",
    "x_plus = 1.1\n",
    "x0 = (x_minus+x_plus)/2\n",
    "x0"
   ]
  },
  {
   "cell_type": "code",
   "execution_count": 16,
   "id": "becc4b37",
   "metadata": {},
   "outputs": [],
   "source": [
    "# define a function to compute V(R)\n",
    "null_list = []\n",
    "def null_R (x):\n",
    "    for i in g:\n",
    "        if x*i >= rf:\n",
    "            y = x*i - rf\n",
    "        else:\n",
    "            y = 2*(x*i - rf)\n",
    "        null_list.append(y)\n",
    "    return null_list"
   ]
  },
  {
   "cell_type": "code",
   "execution_count": 17,
   "id": "811cfe99",
   "metadata": {},
   "outputs": [],
   "source": [
    "# define a function to compute error term\n",
    "\n",
    "def error_term(x,b):\n",
    "    e = 0.99 * b * np.mean(null_R(x)) + 0.99 * x - 1\n",
    "    return e"
   ]
  },
  {
   "cell_type": "code",
   "execution_count": 11,
   "id": "8406b776",
   "metadata": {},
   "outputs": [
    {
     "data": {
      "text/plain": [
       "0.006856134620535803"
      ]
     },
     "execution_count": 11,
     "metadata": {},
     "output_type": "execute_result"
    }
   ],
   "source": [
    "error_term(1.05,2)"
   ]
  },
  {
   "cell_type": "code",
   "execution_count": null,
   "id": "91c3b7b4",
   "metadata": {},
   "outputs": [],
   "source": [
    "# find the value of x to let e(x) = 0\n",
    "x_list = []\n",
    "for b in b0:\n",
    "    upper = 1.1\n",
    "    lower = 1.0\n",
    "    e = error_term((upper+lower/2),b)\n",
    "    while abs(e) > 1e-5:\n",
    "        if e > 0:\n",
    "            upper = (lower+upper)/2\n",
    "            e = error_term((lower+upper)/2,b)\n",
    "        else:\n",
    "            lower = (lower+upper)/2\n",
    "            e = error_term((lower+upper)/2,b)\n",
    "    x_list.append((upper+lower)/2)"
   ]
  },
  {
   "cell_type": "code",
   "execution_count": null,
   "id": "998e34b0",
   "metadata": {},
   "outputs": [],
   "source": [
    "plt.plot(b0, x_list)"
   ]
  },
  {
   "cell_type": "code",
   "execution_count": null,
   "id": "9f3fb8e7",
   "metadata": {},
   "outputs": [],
   "source": [
    "P_D_ratio = 1/(x_list-1)\n",
    "plt.plot(b0,P_D_ratio)"
   ]
  },
  {
   "cell_type": "code",
   "execution_count": null,
   "id": "12fd7907",
   "metadata": {},
   "outputs": [],
   "source": []
  },
  {
   "cell_type": "code",
   "execution_count": null,
   "id": "f4863730",
   "metadata": {},
   "outputs": [],
   "source": []
  },
  {
   "cell_type": "code",
   "execution_count": null,
   "id": "1a828ffc",
   "metadata": {},
   "outputs": [],
   "source": []
  },
  {
   "cell_type": "code",
   "execution_count": null,
   "id": "e888bb67",
   "metadata": {},
   "outputs": [],
   "source": []
  }
 ],
 "metadata": {
  "kernelspec": {
   "display_name": "Python 3 (ipykernel)",
   "language": "python",
   "name": "python3"
  },
  "language_info": {
   "codemirror_mode": {
    "name": "ipython",
    "version": 3
   },
   "file_extension": ".py",
   "mimetype": "text/x-python",
   "name": "python",
   "nbconvert_exporter": "python",
   "pygments_lexer": "ipython3",
   "version": "3.11.4"
  }
 },
 "nbformat": 4,
 "nbformat_minor": 5
}
