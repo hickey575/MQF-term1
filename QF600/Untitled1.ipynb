{
 "cells": [
  {
   "cell_type": "code",
   "execution_count": 1,
   "id": "cf59464b",
   "metadata": {},
   "outputs": [],
   "source": [
    "import numpy as np\n",
    "import pandas as pd\n",
    "from pandas import Series,DataFrame\n",
    "from matplotlib import pyplot as plt\n",
    "from scipy.stats import linregress\n",
    "from sklearn import linear_model"
   ]
  },
  {
   "cell_type": "code",
   "execution_count": 2,
   "id": "d86c9902",
   "metadata": {},
   "outputs": [
    {
     "data": {
      "text/plain": [
       "array([-0.36008048, -0.83145719, -1.26430409, ..., -0.79581379,\n",
       "       -0.60303246, -0.61295254])"
      ]
     },
     "execution_count": 2,
     "metadata": {},
     "output_type": "execute_result"
    }
   ],
   "source": [
    "error = np.random.randn(10**4)\n",
    "error"
   ]
  },
  {
   "cell_type": "code",
   "execution_count": 3,
   "id": "bc798538",
   "metadata": {},
   "outputs": [
    {
     "data": {
      "text/plain": [
       "array([ 0.01279839,  0.00337086, -0.00528608, ...,  0.00408372,\n",
       "        0.00793935,  0.00774095])"
      ]
     },
     "execution_count": 3,
     "metadata": {},
     "output_type": "execute_result"
    }
   ],
   "source": [
    "lng = 0.02+0.02*error\n",
    "lng"
   ]
  },
  {
   "cell_type": "code",
   "execution_count": 4,
   "id": "fee18e06",
   "metadata": {},
   "outputs": [
    {
     "data": {
      "text/plain": [
       "array([1.01288064, 1.00337654, 0.99472787, ..., 1.00409207, 1.00797095,\n",
       "       1.00777099])"
      ]
     },
     "execution_count": 4,
     "metadata": {},
     "output_type": "execute_result"
    }
   ],
   "source": [
    "g = np.exp(lng)\n",
    "g"
   ]
  },
  {
   "cell_type": "code",
   "execution_count": 5,
   "id": "116a48db",
   "metadata": {},
   "outputs": [
    {
     "data": {
      "text/plain": [
       "array([ 0. ,  0.1,  0.2,  0.3,  0.4,  0.5,  0.6,  0.7,  0.8,  0.9,  1. ,\n",
       "        1.1,  1.2,  1.3,  1.4,  1.5,  1.6,  1.7,  1.8,  1.9,  2. ,  2.1,\n",
       "        2.2,  2.3,  2.4,  2.5,  2.6,  2.7,  2.8,  2.9,  3. ,  3.1,  3.2,\n",
       "        3.3,  3.4,  3.5,  3.6,  3.7,  3.8,  3.9,  4. ,  4.1,  4.2,  4.3,\n",
       "        4.4,  4.5,  4.6,  4.7,  4.8,  4.9,  5. ,  5.1,  5.2,  5.3,  5.4,\n",
       "        5.5,  5.6,  5.7,  5.8,  5.9,  6. ,  6.1,  6.2,  6.3,  6.4,  6.5,\n",
       "        6.6,  6.7,  6.8,  6.9,  7. ,  7.1,  7.2,  7.3,  7.4,  7.5,  7.6,\n",
       "        7.7,  7.8,  7.9,  8. ,  8.1,  8.2,  8.3,  8.4,  8.5,  8.6,  8.7,\n",
       "        8.8,  8.9,  9. ,  9.1,  9.2,  9.3,  9.4,  9.5,  9.6,  9.7,  9.8,\n",
       "        9.9, 10. ])"
      ]
     },
     "execution_count": 5,
     "metadata": {},
     "output_type": "execute_result"
    }
   ],
   "source": [
    "rf = 1.0303\n",
    "b0 = np.arange(0,10.1,0.1)\n",
    "b0"
   ]
  },
  {
   "cell_type": "code",
   "execution_count": 6,
   "id": "e3b3e685",
   "metadata": {},
   "outputs": [],
   "source": [
    "def v(x):\n",
    "    v_list = []\n",
    "    for i in g:\n",
    "        if x*i>=1.0303:\n",
    "            y = x*i-1.0303\n",
    "        else:\n",
    "            y = 2*x*i-1.0303\n",
    "        v_list.append(y)\n",
    "    return v_list"
   ]
  },
  {
   "cell_type": "code",
   "execution_count": 7,
   "id": "e73af55b",
   "metadata": {},
   "outputs": [],
   "source": [
    "def e(x,b):\n",
    "    output = 0.99*b*np.mean(v(x))+0.99*x-1\n",
    "    return output"
   ]
  },
  {
   "cell_type": "code",
   "execution_count": null,
   "id": "7ea77693",
   "metadata": {},
   "outputs": [],
   "source": [
    "x_list = []\n",
    "for b in b0:\n",
    "    upper = 1.1\n",
    "    lower = 1.0\n",
    "    output = e((upper+lower)/2, b)\n",
    "    while abs(output) > 1e-5:\n",
    "        if output>0:\n",
    "            upper=(lower+upper)/2\n",
    "            output = e((lower+upper)/2,b)\n",
    "        else:\n",
    "            lower=(lower+upper)/2\n",
    "            output = e((lower+upper)/2,b)\n",
    "    x_list.append((upper+lower)/2)"
   ]
  }
 ],
 "metadata": {
  "kernelspec": {
   "display_name": "Python 3 (ipykernel)",
   "language": "python",
   "name": "python3"
  },
  "language_info": {
   "codemirror_mode": {
    "name": "ipython",
    "version": 3
   },
   "file_extension": ".py",
   "mimetype": "text/x-python",
   "name": "python",
   "nbconvert_exporter": "python",
   "pygments_lexer": "ipython3",
   "version": "3.11.4"
  }
 },
 "nbformat": 4,
 "nbformat_minor": 5
}
