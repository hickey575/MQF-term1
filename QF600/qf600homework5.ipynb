{
 "cells": [
  {
   "cell_type": "code",
   "execution_count": 1,
   "id": "24b66c18",
   "metadata": {},
   "outputs": [],
   "source": [
    "import numpy as np\n",
    "import pandas as pd\n",
    "from pandas import Series,DataFrame\n",
    "from matplotlib import pyplot as plt\n",
    "from scipy.stats import linregress\n",
    "from sklearn import linear_model"
   ]
  },
  {
   "cell_type": "code",
   "execution_count": 2,
   "id": "62776d68",
   "metadata": {},
   "outputs": [
    {
     "data": {
      "text/plain": [
       "array([-0.39850879,  0.77120707,  0.25031408, ..., -0.5930081 ,\n",
       "       -0.67335046,  0.64467842])"
      ]
     },
     "execution_count": 2,
     "metadata": {},
     "output_type": "execute_result"
    }
   ],
   "source": [
    "epsilion = np.random.randn(10**4)\n",
    "epsilion"
   ]
  },
  {
   "cell_type": "code",
   "execution_count": 3,
   "id": "2c54c212",
   "metadata": {},
   "outputs": [],
   "source": [
    "v = np.random.uniform(0,1,10**4)"
   ]
  },
  {
   "cell_type": "code",
   "execution_count": 4,
   "id": "3eb5d6ba",
   "metadata": {},
   "outputs": [
    {
     "data": {
      "text/plain": [
       "array([0.65669673, 0.17323648, 0.06044497, ..., 0.53416315, 0.90445558,\n",
       "       0.38858715])"
      ]
     },
     "execution_count": 4,
     "metadata": {},
     "output_type": "execute_result"
    }
   ],
   "source": [
    "v"
   ]
  },
  {
   "cell_type": "code",
   "execution_count": 5,
   "id": "c9a030ce",
   "metadata": {},
   "outputs": [],
   "source": [
    "threshold = 0.017"
   ]
  },
  {
   "cell_type": "code",
   "execution_count": 6,
   "id": "57707c26",
   "metadata": {},
   "outputs": [],
   "source": [
    "v[v<=threshold] = np.log(0.65)\n",
    "v[v!=np.log(0.65)] = 0"
   ]
  },
  {
   "cell_type": "code",
   "execution_count": 7,
   "id": "a1eed4c6",
   "metadata": {},
   "outputs": [
    {
     "data": {
      "text/plain": [
       "array([0., 0., 0., ..., 0., 0., 0.])"
      ]
     },
     "execution_count": 7,
     "metadata": {},
     "output_type": "execute_result"
    }
   ],
   "source": [
    "v"
   ]
  },
  {
   "cell_type": "code",
   "execution_count": 8,
   "id": "233b89b2",
   "metadata": {},
   "outputs": [],
   "source": [
    "lng = 0.02+0.02*epsilion+v"
   ]
  },
  {
   "cell_type": "code",
   "execution_count": 9,
   "id": "83e9355b",
   "metadata": {},
   "outputs": [
    {
     "data": {
      "text/plain": [
       "array([0.01202982, 0.03542414, 0.02500628, ..., 0.00813984, 0.00653299,\n",
       "       0.03289357])"
      ]
     },
     "execution_count": 9,
     "metadata": {},
     "output_type": "execute_result"
    }
   ],
   "source": [
    "lng"
   ]
  },
  {
   "cell_type": "code",
   "execution_count": 10,
   "id": "bb8c8298",
   "metadata": {},
   "outputs": [
    {
     "data": {
      "text/plain": [
       "array([1. , 1.1, 1.2, 1.3, 1.4, 1.5, 1.6, 1.7, 1.8, 1.9, 2. , 2.1, 2.2,\n",
       "       2.3, 2.4, 2.5, 2.6, 2.7, 2.8, 2.9, 3. , 3.1, 3.2, 3.3, 3.4, 3.5,\n",
       "       3.6, 3.7, 3.8, 3.9, 4. ])"
      ]
     },
     "execution_count": 10,
     "metadata": {},
     "output_type": "execute_result"
    }
   ],
   "source": [
    "gama = np.arange(1,4.1,0.1)\n",
    "gama"
   ]
  },
  {
   "cell_type": "code",
   "execution_count": 11,
   "id": "4f8d9d0d",
   "metadata": {},
   "outputs": [
    {
     "data": {
      "text/plain": [
       "array([1.01210247, 1.03605905, 1.02532156, ..., 1.00817306, 1.00655438,\n",
       "       1.03344054])"
      ]
     },
     "execution_count": 11,
     "metadata": {},
     "output_type": "execute_result"
    }
   ],
   "source": [
    "np.exp(lng)"
   ]
  },
  {
   "cell_type": "code",
   "execution_count": 20,
   "id": "5c017de4",
   "metadata": {},
   "outputs": [],
   "source": [
    "start = 1\n",
    "end = 4.1\n",
    "step = 0.1\n",
    "for i in np.arange(start,end,step):\n",
    "    m = 0.99*np.exp(lng)**-i"
   ]
  },
  {
   "cell_type": "code",
   "execution_count": 13,
   "id": "96d73427",
   "metadata": {},
   "outputs": [
    {
     "data": {
      "text/plain": [
       "array([0.94348989, 0.85920572, 0.89576654, ..., 0.95828535, 0.96446446,\n",
       "       0.86794701])"
      ]
     },
     "execution_count": 13,
     "metadata": {},
     "output_type": "execute_result"
    }
   ],
   "source": [
    "m"
   ]
  },
  {
   "cell_type": "code",
   "execution_count": 14,
   "id": "e9599f7c",
   "metadata": {},
   "outputs": [
    {
     "data": {
      "text/plain": [
       "0.9950151239942208"
      ]
     },
     "execution_count": 14,
     "metadata": {},
     "output_type": "execute_result"
    }
   ],
   "source": [
    "mean = np.mean(m)\n",
    "mean"
   ]
  },
  {
   "cell_type": "code",
   "execution_count": 15,
   "id": "9a9288e2",
   "metadata": {},
   "outputs": [],
   "source": [
    "#每一轮产生10000个数，然后对这10000个数求平均值和方差"
   ]
  },
  {
   "cell_type": "code",
   "execution_count": 21,
   "id": "c8545998",
   "metadata": {},
   "outputs": [
    {
     "name": "stderr",
     "output_type": "stream",
     "text": [
      "C:\\Users\\dell\\AppData\\Local\\Temp\\ipykernel_9168\\973299416.py:10: FutureWarning: The behavior of DataFrame concatenation with empty or all-NA entries is deprecated. In a future version, this will no longer exclude empty or all-NA columns when determining the result dtypes. To retain the old behavior, exclude the relevant entries before the concat operation.\n",
      "  result_df = pd.concat([result_df, temp_df], ignore_index=True)\n"
     ]
    },
    {
     "data": {
      "text/html": [
       "<div>\n",
       "<style scoped>\n",
       "    .dataframe tbody tr th:only-of-type {\n",
       "        vertical-align: middle;\n",
       "    }\n",
       "\n",
       "    .dataframe tbody tr th {\n",
       "        vertical-align: top;\n",
       "    }\n",
       "\n",
       "    .dataframe thead th {\n",
       "        text-align: right;\n",
       "    }\n",
       "</style>\n",
       "<table border=\"1\" class=\"dataframe\">\n",
       "  <thead>\n",
       "    <tr style=\"text-align: right;\">\n",
       "      <th></th>\n",
       "      <th>γ</th>\n",
       "      <th>μM</th>\n",
       "      <th>σM</th>\n",
       "    </tr>\n",
       "  </thead>\n",
       "  <tbody>\n",
       "    <tr>\n",
       "      <th>0</th>\n",
       "      <td>1.0</td>\n",
       "      <td>0.980177</td>\n",
       "      <td>0.073491</td>\n",
       "    </tr>\n",
       "    <tr>\n",
       "      <th>1</th>\n",
       "      <td>1.1</td>\n",
       "      <td>0.979468</td>\n",
       "      <td>0.082450</td>\n",
       "    </tr>\n",
       "    <tr>\n",
       "      <th>2</th>\n",
       "      <td>1.2</td>\n",
       "      <td>0.978815</td>\n",
       "      <td>0.091757</td>\n",
       "    </tr>\n",
       "    <tr>\n",
       "      <th>3</th>\n",
       "      <td>1.3</td>\n",
       "      <td>0.978222</td>\n",
       "      <td>0.101428</td>\n",
       "    </tr>\n",
       "    <tr>\n",
       "      <th>4</th>\n",
       "      <td>1.4</td>\n",
       "      <td>0.977689</td>\n",
       "      <td>0.111478</td>\n",
       "    </tr>\n",
       "    <tr>\n",
       "      <th>5</th>\n",
       "      <td>1.5</td>\n",
       "      <td>0.977220</td>\n",
       "      <td>0.121924</td>\n",
       "    </tr>\n",
       "    <tr>\n",
       "      <th>6</th>\n",
       "      <td>1.6</td>\n",
       "      <td>0.976816</td>\n",
       "      <td>0.132785</td>\n",
       "    </tr>\n",
       "    <tr>\n",
       "      <th>7</th>\n",
       "      <td>1.7</td>\n",
       "      <td>0.976480</td>\n",
       "      <td>0.144079</td>\n",
       "    </tr>\n",
       "    <tr>\n",
       "      <th>8</th>\n",
       "      <td>1.8</td>\n",
       "      <td>0.976215</td>\n",
       "      <td>0.155824</td>\n",
       "    </tr>\n",
       "    <tr>\n",
       "      <th>9</th>\n",
       "      <td>1.9</td>\n",
       "      <td>0.976023</td>\n",
       "      <td>0.168042</td>\n",
       "    </tr>\n",
       "    <tr>\n",
       "      <th>10</th>\n",
       "      <td>2.0</td>\n",
       "      <td>0.975907</td>\n",
       "      <td>0.180751</td>\n",
       "    </tr>\n",
       "    <tr>\n",
       "      <th>11</th>\n",
       "      <td>2.1</td>\n",
       "      <td>0.975869</td>\n",
       "      <td>0.193976</td>\n",
       "    </tr>\n",
       "    <tr>\n",
       "      <th>12</th>\n",
       "      <td>2.2</td>\n",
       "      <td>0.975914</td>\n",
       "      <td>0.207737</td>\n",
       "    </tr>\n",
       "    <tr>\n",
       "      <th>13</th>\n",
       "      <td>2.3</td>\n",
       "      <td>0.976043</td>\n",
       "      <td>0.222059</td>\n",
       "    </tr>\n",
       "    <tr>\n",
       "      <th>14</th>\n",
       "      <td>2.4</td>\n",
       "      <td>0.976261</td>\n",
       "      <td>0.236966</td>\n",
       "    </tr>\n",
       "    <tr>\n",
       "      <th>15</th>\n",
       "      <td>2.5</td>\n",
       "      <td>0.976570</td>\n",
       "      <td>0.252483</td>\n",
       "    </tr>\n",
       "    <tr>\n",
       "      <th>16</th>\n",
       "      <td>2.6</td>\n",
       "      <td>0.976975</td>\n",
       "      <td>0.268638</td>\n",
       "    </tr>\n",
       "    <tr>\n",
       "      <th>17</th>\n",
       "      <td>2.7</td>\n",
       "      <td>0.977478</td>\n",
       "      <td>0.285458</td>\n",
       "    </tr>\n",
       "    <tr>\n",
       "      <th>18</th>\n",
       "      <td>2.8</td>\n",
       "      <td>0.978084</td>\n",
       "      <td>0.302972</td>\n",
       "    </tr>\n",
       "    <tr>\n",
       "      <th>19</th>\n",
       "      <td>2.9</td>\n",
       "      <td>0.978796</td>\n",
       "      <td>0.321210</td>\n",
       "    </tr>\n",
       "    <tr>\n",
       "      <th>20</th>\n",
       "      <td>3.0</td>\n",
       "      <td>0.979620</td>\n",
       "      <td>0.340205</td>\n",
       "    </tr>\n",
       "    <tr>\n",
       "      <th>21</th>\n",
       "      <td>3.1</td>\n",
       "      <td>0.980559</td>\n",
       "      <td>0.359987</td>\n",
       "    </tr>\n",
       "    <tr>\n",
       "      <th>22</th>\n",
       "      <td>3.2</td>\n",
       "      <td>0.981617</td>\n",
       "      <td>0.380593</td>\n",
       "    </tr>\n",
       "    <tr>\n",
       "      <th>23</th>\n",
       "      <td>3.3</td>\n",
       "      <td>0.982800</td>\n",
       "      <td>0.402057</td>\n",
       "    </tr>\n",
       "    <tr>\n",
       "      <th>24</th>\n",
       "      <td>3.4</td>\n",
       "      <td>0.984113</td>\n",
       "      <td>0.424417</td>\n",
       "    </tr>\n",
       "    <tr>\n",
       "      <th>25</th>\n",
       "      <td>3.5</td>\n",
       "      <td>0.985561</td>\n",
       "      <td>0.447711</td>\n",
       "    </tr>\n",
       "    <tr>\n",
       "      <th>26</th>\n",
       "      <td>3.6</td>\n",
       "      <td>0.987148</td>\n",
       "      <td>0.471980</td>\n",
       "    </tr>\n",
       "    <tr>\n",
       "      <th>27</th>\n",
       "      <td>3.7</td>\n",
       "      <td>0.988881</td>\n",
       "      <td>0.497266</td>\n",
       "    </tr>\n",
       "    <tr>\n",
       "      <th>28</th>\n",
       "      <td>3.8</td>\n",
       "      <td>0.990766</td>\n",
       "      <td>0.523613</td>\n",
       "    </tr>\n",
       "    <tr>\n",
       "      <th>29</th>\n",
       "      <td>3.9</td>\n",
       "      <td>0.992809</td>\n",
       "      <td>0.551066</td>\n",
       "    </tr>\n",
       "    <tr>\n",
       "      <th>30</th>\n",
       "      <td>4.0</td>\n",
       "      <td>0.995015</td>\n",
       "      <td>0.579674</td>\n",
       "    </tr>\n",
       "  </tbody>\n",
       "</table>\n",
       "</div>"
      ],
      "text/plain": [
       "      γ        μM        σM\n",
       "0   1.0  0.980177  0.073491\n",
       "1   1.1  0.979468  0.082450\n",
       "2   1.2  0.978815  0.091757\n",
       "3   1.3  0.978222  0.101428\n",
       "4   1.4  0.977689  0.111478\n",
       "5   1.5  0.977220  0.121924\n",
       "6   1.6  0.976816  0.132785\n",
       "7   1.7  0.976480  0.144079\n",
       "8   1.8  0.976215  0.155824\n",
       "9   1.9  0.976023  0.168042\n",
       "10  2.0  0.975907  0.180751\n",
       "11  2.1  0.975869  0.193976\n",
       "12  2.2  0.975914  0.207737\n",
       "13  2.3  0.976043  0.222059\n",
       "14  2.4  0.976261  0.236966\n",
       "15  2.5  0.976570  0.252483\n",
       "16  2.6  0.976975  0.268638\n",
       "17  2.7  0.977478  0.285458\n",
       "18  2.8  0.978084  0.302972\n",
       "19  2.9  0.978796  0.321210\n",
       "20  3.0  0.979620  0.340205\n",
       "21  3.1  0.980559  0.359987\n",
       "22  3.2  0.981617  0.380593\n",
       "23  3.3  0.982800  0.402057\n",
       "24  3.4  0.984113  0.424417\n",
       "25  3.5  0.985561  0.447711\n",
       "26  3.6  0.987148  0.471980\n",
       "27  3.7  0.988881  0.497266\n",
       "28  3.8  0.990766  0.523613\n",
       "29  3.9  0.992809  0.551066\n",
       "30  4.0  0.995015  0.579674"
      ]
     },
     "execution_count": 21,
     "metadata": {},
     "output_type": "execute_result"
    }
   ],
   "source": [
    "result_df = pd.DataFrame(columns=[\"γ\", \"μM\", \"σM\"])\n",
    "start = 1\n",
    "end = 4.1\n",
    "step = 0.1\n",
    "for i in np.arange(start,end,step):\n",
    "    m = 0.99*np.exp(lng)**-i\n",
    "    mean = np.mean(m)\n",
    "    std = np.std(m)\n",
    "    temp_df = pd.DataFrame({\"γ\": [i], \"μM\": [mean], \"σM\": [std]})\n",
    "    result_df = pd.concat([result_df, temp_df], ignore_index=True)\n",
    "result_df"
   ]
  },
  {
   "cell_type": "code",
   "execution_count": 22,
   "id": "0413bcd6",
   "metadata": {},
   "outputs": [
    {
     "data": {
      "text/html": [
       "<div>\n",
       "<style scoped>\n",
       "    .dataframe tbody tr th:only-of-type {\n",
       "        vertical-align: middle;\n",
       "    }\n",
       "\n",
       "    .dataframe tbody tr th {\n",
       "        vertical-align: top;\n",
       "    }\n",
       "\n",
       "    .dataframe thead th {\n",
       "        text-align: right;\n",
       "    }\n",
       "</style>\n",
       "<table border=\"1\" class=\"dataframe\">\n",
       "  <thead>\n",
       "    <tr style=\"text-align: right;\">\n",
       "      <th></th>\n",
       "      <th>γ</th>\n",
       "      <th>μM</th>\n",
       "      <th>σM</th>\n",
       "      <th>σM/μM</th>\n",
       "    </tr>\n",
       "  </thead>\n",
       "  <tbody>\n",
       "    <tr>\n",
       "      <th>0</th>\n",
       "      <td>1.0</td>\n",
       "      <td>0.980177</td>\n",
       "      <td>0.073491</td>\n",
       "      <td>0.074977</td>\n",
       "    </tr>\n",
       "    <tr>\n",
       "      <th>1</th>\n",
       "      <td>1.1</td>\n",
       "      <td>0.979468</td>\n",
       "      <td>0.082450</td>\n",
       "      <td>0.084178</td>\n",
       "    </tr>\n",
       "    <tr>\n",
       "      <th>2</th>\n",
       "      <td>1.2</td>\n",
       "      <td>0.978815</td>\n",
       "      <td>0.091757</td>\n",
       "      <td>0.093743</td>\n",
       "    </tr>\n",
       "    <tr>\n",
       "      <th>3</th>\n",
       "      <td>1.3</td>\n",
       "      <td>0.978222</td>\n",
       "      <td>0.101428</td>\n",
       "      <td>0.103686</td>\n",
       "    </tr>\n",
       "    <tr>\n",
       "      <th>4</th>\n",
       "      <td>1.4</td>\n",
       "      <td>0.977689</td>\n",
       "      <td>0.111478</td>\n",
       "      <td>0.114022</td>\n",
       "    </tr>\n",
       "    <tr>\n",
       "      <th>5</th>\n",
       "      <td>1.5</td>\n",
       "      <td>0.977220</td>\n",
       "      <td>0.121924</td>\n",
       "      <td>0.124767</td>\n",
       "    </tr>\n",
       "    <tr>\n",
       "      <th>6</th>\n",
       "      <td>1.6</td>\n",
       "      <td>0.976816</td>\n",
       "      <td>0.132785</td>\n",
       "      <td>0.135937</td>\n",
       "    </tr>\n",
       "    <tr>\n",
       "      <th>7</th>\n",
       "      <td>1.7</td>\n",
       "      <td>0.976480</td>\n",
       "      <td>0.144079</td>\n",
       "      <td>0.147549</td>\n",
       "    </tr>\n",
       "    <tr>\n",
       "      <th>8</th>\n",
       "      <td>1.8</td>\n",
       "      <td>0.976215</td>\n",
       "      <td>0.155824</td>\n",
       "      <td>0.159621</td>\n",
       "    </tr>\n",
       "    <tr>\n",
       "      <th>9</th>\n",
       "      <td>1.9</td>\n",
       "      <td>0.976023</td>\n",
       "      <td>0.168042</td>\n",
       "      <td>0.172170</td>\n",
       "    </tr>\n",
       "    <tr>\n",
       "      <th>10</th>\n",
       "      <td>2.0</td>\n",
       "      <td>0.975907</td>\n",
       "      <td>0.180751</td>\n",
       "      <td>0.185214</td>\n",
       "    </tr>\n",
       "    <tr>\n",
       "      <th>11</th>\n",
       "      <td>2.1</td>\n",
       "      <td>0.975869</td>\n",
       "      <td>0.193976</td>\n",
       "      <td>0.198772</td>\n",
       "    </tr>\n",
       "    <tr>\n",
       "      <th>12</th>\n",
       "      <td>2.2</td>\n",
       "      <td>0.975914</td>\n",
       "      <td>0.207737</td>\n",
       "      <td>0.212864</td>\n",
       "    </tr>\n",
       "    <tr>\n",
       "      <th>13</th>\n",
       "      <td>2.3</td>\n",
       "      <td>0.976043</td>\n",
       "      <td>0.222059</td>\n",
       "      <td>0.227509</td>\n",
       "    </tr>\n",
       "    <tr>\n",
       "      <th>14</th>\n",
       "      <td>2.4</td>\n",
       "      <td>0.976261</td>\n",
       "      <td>0.236966</td>\n",
       "      <td>0.242728</td>\n",
       "    </tr>\n",
       "    <tr>\n",
       "      <th>15</th>\n",
       "      <td>2.5</td>\n",
       "      <td>0.976570</td>\n",
       "      <td>0.252483</td>\n",
       "      <td>0.258541</td>\n",
       "    </tr>\n",
       "    <tr>\n",
       "      <th>16</th>\n",
       "      <td>2.6</td>\n",
       "      <td>0.976975</td>\n",
       "      <td>0.268638</td>\n",
       "      <td>0.274969</td>\n",
       "    </tr>\n",
       "    <tr>\n",
       "      <th>17</th>\n",
       "      <td>2.7</td>\n",
       "      <td>0.977478</td>\n",
       "      <td>0.285458</td>\n",
       "      <td>0.292035</td>\n",
       "    </tr>\n",
       "    <tr>\n",
       "      <th>18</th>\n",
       "      <td>2.8</td>\n",
       "      <td>0.978084</td>\n",
       "      <td>0.302972</td>\n",
       "      <td>0.309761</td>\n",
       "    </tr>\n",
       "    <tr>\n",
       "      <th>19</th>\n",
       "      <td>2.9</td>\n",
       "      <td>0.978796</td>\n",
       "      <td>0.321210</td>\n",
       "      <td>0.328169</td>\n",
       "    </tr>\n",
       "    <tr>\n",
       "      <th>20</th>\n",
       "      <td>3.0</td>\n",
       "      <td>0.979620</td>\n",
       "      <td>0.340205</td>\n",
       "      <td>0.347282</td>\n",
       "    </tr>\n",
       "    <tr>\n",
       "      <th>21</th>\n",
       "      <td>3.1</td>\n",
       "      <td>0.980559</td>\n",
       "      <td>0.359987</td>\n",
       "      <td>0.367125</td>\n",
       "    </tr>\n",
       "    <tr>\n",
       "      <th>22</th>\n",
       "      <td>3.2</td>\n",
       "      <td>0.981617</td>\n",
       "      <td>0.380593</td>\n",
       "      <td>0.387720</td>\n",
       "    </tr>\n",
       "    <tr>\n",
       "      <th>23</th>\n",
       "      <td>3.3</td>\n",
       "      <td>0.982800</td>\n",
       "      <td>0.402057</td>\n",
       "      <td>0.409093</td>\n",
       "    </tr>\n",
       "    <tr>\n",
       "      <th>24</th>\n",
       "      <td>3.4</td>\n",
       "      <td>0.984113</td>\n",
       "      <td>0.424417</td>\n",
       "      <td>0.431268</td>\n",
       "    </tr>\n",
       "    <tr>\n",
       "      <th>25</th>\n",
       "      <td>3.5</td>\n",
       "      <td>0.985561</td>\n",
       "      <td>0.447711</td>\n",
       "      <td>0.454270</td>\n",
       "    </tr>\n",
       "    <tr>\n",
       "      <th>26</th>\n",
       "      <td>3.6</td>\n",
       "      <td>0.987148</td>\n",
       "      <td>0.471980</td>\n",
       "      <td>0.478125</td>\n",
       "    </tr>\n",
       "    <tr>\n",
       "      <th>27</th>\n",
       "      <td>3.7</td>\n",
       "      <td>0.988881</td>\n",
       "      <td>0.497266</td>\n",
       "      <td>0.502857</td>\n",
       "    </tr>\n",
       "    <tr>\n",
       "      <th>28</th>\n",
       "      <td>3.8</td>\n",
       "      <td>0.990766</td>\n",
       "      <td>0.523613</td>\n",
       "      <td>0.528493</td>\n",
       "    </tr>\n",
       "    <tr>\n",
       "      <th>29</th>\n",
       "      <td>3.9</td>\n",
       "      <td>0.992809</td>\n",
       "      <td>0.551066</td>\n",
       "      <td>0.555057</td>\n",
       "    </tr>\n",
       "    <tr>\n",
       "      <th>30</th>\n",
       "      <td>4.0</td>\n",
       "      <td>0.995015</td>\n",
       "      <td>0.579674</td>\n",
       "      <td>0.582578</td>\n",
       "    </tr>\n",
       "  </tbody>\n",
       "</table>\n",
       "</div>"
      ],
      "text/plain": [
       "      γ        μM        σM     σM/μM\n",
       "0   1.0  0.980177  0.073491  0.074977\n",
       "1   1.1  0.979468  0.082450  0.084178\n",
       "2   1.2  0.978815  0.091757  0.093743\n",
       "3   1.3  0.978222  0.101428  0.103686\n",
       "4   1.4  0.977689  0.111478  0.114022\n",
       "5   1.5  0.977220  0.121924  0.124767\n",
       "6   1.6  0.976816  0.132785  0.135937\n",
       "7   1.7  0.976480  0.144079  0.147549\n",
       "8   1.8  0.976215  0.155824  0.159621\n",
       "9   1.9  0.976023  0.168042  0.172170\n",
       "10  2.0  0.975907  0.180751  0.185214\n",
       "11  2.1  0.975869  0.193976  0.198772\n",
       "12  2.2  0.975914  0.207737  0.212864\n",
       "13  2.3  0.976043  0.222059  0.227509\n",
       "14  2.4  0.976261  0.236966  0.242728\n",
       "15  2.5  0.976570  0.252483  0.258541\n",
       "16  2.6  0.976975  0.268638  0.274969\n",
       "17  2.7  0.977478  0.285458  0.292035\n",
       "18  2.8  0.978084  0.302972  0.309761\n",
       "19  2.9  0.978796  0.321210  0.328169\n",
       "20  3.0  0.979620  0.340205  0.347282\n",
       "21  3.1  0.980559  0.359987  0.367125\n",
       "22  3.2  0.981617  0.380593  0.387720\n",
       "23  3.3  0.982800  0.402057  0.409093\n",
       "24  3.4  0.984113  0.424417  0.431268\n",
       "25  3.5  0.985561  0.447711  0.454270\n",
       "26  3.6  0.987148  0.471980  0.478125\n",
       "27  3.7  0.988881  0.497266  0.502857\n",
       "28  3.8  0.990766  0.523613  0.528493\n",
       "29  3.9  0.992809  0.551066  0.555057\n",
       "30  4.0  0.995015  0.579674  0.582578"
      ]
     },
     "execution_count": 22,
     "metadata": {},
     "output_type": "execute_result"
    }
   ],
   "source": [
    "result_df[\"σM/μM\"] = result_df[\"σM\"]/result_df[\"μM\"]\n",
    "result_df"
   ]
  },
  {
   "cell_type": "code",
   "execution_count": 24,
   "id": "e63c4848",
   "metadata": {},
   "outputs": [],
   "source": [
    "excel_file=\"123.xlsx\"\n",
    "result_df.to_excel(excel_file,index=False)"
   ]
  },
  {
   "cell_type": "code",
   "execution_count": 19,
   "id": "cb70caf9",
   "metadata": {},
   "outputs": [
    {
     "data": {
      "image/png": "[encoded data removed]",
      "text/plain": [
       "<Figure size 640x480 with 1 Axes>"
      ]
     },
     "metadata": {},
     "output_type": "display_data"
    }
   ],
   "source": [
    "plt.scatter(gama,result_df[\"std/mean\"])\n",
    "plt.axhline(y=0.4,color=\"r\")\n",
    "plt.ylabel(\"σM/μM\")\n",
    "plt.xlabel(\"γ\")\n",
    "plt.show()"
   ]
  }
 ],
 "metadata": {
  "kernelspec": {
   "display_name": "Python 3 (ipykernel)",
   "language": "python",
   "name": "python3"
  },
  "language_info": {
   "codemirror_mode": {
    "name": "ipython",
    "version": 3
   },
   "file_extension": ".py",
   "mimetype": "text/x-python",
   "name": "python",
   "nbconvert_exporter": "python",
   "pygments_lexer": "ipython3",
   "version": "3.11.4"
  }
 },
 "nbformat": 4,
 "nbformat_minor": 5
}
