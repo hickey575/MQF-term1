{
 "cells": [
  {
   "cell_type": "code",
   "execution_count": 1,
   "id": "b5233533",
   "metadata": {},
   "outputs": [],
   "source": [
    "import numpy as np\n",
    "import pandas as pd\n",
    "from pandas import Series,DataFrame\n",
    "from matplotlib import pyplot as plt"
   ]
  },
  {
   "cell_type": "code",
   "execution_count": 2,
   "id": "69541b99",
   "metadata": {},
   "outputs": [
    {
     "name": "stderr",
     "output_type": "stream",
     "text": [
      "D:\\anaconda\\Lib\\site-packages\\openpyxl\\worksheet\\_read_only.py:79: UserWarning: Unknown extension is not supported and will be removed\n",
      "  for idx, row in parser.parse():\n"
     ]
    }
   ],
   "source": [
    "market = pd.read_excel(\"Market_Portfolio.xlsx\",index_col = \"Date\")"
   ]
  },
  {
   "cell_type": "code",
   "execution_count": 3,
   "id": "10b316c0",
   "metadata": {},
   "outputs": [
    {
     "data": {
      "text/html": [
       "<div>\n",
       "<style scoped>\n",
       "    .dataframe tbody tr th:only-of-type {\n",
       "        vertical-align: middle;\n",
       "    }\n",
       "\n",
       "    .dataframe tbody tr th {\n",
       "        vertical-align: top;\n",
       "    }\n",
       "\n",
       "    .dataframe thead th {\n",
       "        text-align: right;\n",
       "    }\n",
       "</style>\n",
       "<table border=\"1\" class=\"dataframe\">\n",
       "  <thead>\n",
       "    <tr style=\"text-align: right;\">\n",
       "      <th></th>\n",
       "      <th>Market</th>\n",
       "    </tr>\n",
       "    <tr>\n",
       "      <th>Date</th>\n",
       "      <th></th>\n",
       "    </tr>\n",
       "  </thead>\n",
       "  <tbody>\n",
       "    <tr>\n",
       "      <th>200401</th>\n",
       "      <td>2.22</td>\n",
       "    </tr>\n",
       "    <tr>\n",
       "      <th>200402</th>\n",
       "      <td>1.46</td>\n",
       "    </tr>\n",
       "    <tr>\n",
       "      <th>200403</th>\n",
       "      <td>-1.23</td>\n",
       "    </tr>\n",
       "    <tr>\n",
       "      <th>200404</th>\n",
       "      <td>-1.75</td>\n",
       "    </tr>\n",
       "    <tr>\n",
       "      <th>200405</th>\n",
       "      <td>1.23</td>\n",
       "    </tr>\n",
       "    <tr>\n",
       "      <th>...</th>\n",
       "      <td>...</td>\n",
       "    </tr>\n",
       "    <tr>\n",
       "      <th>201308</th>\n",
       "      <td>-2.69</td>\n",
       "    </tr>\n",
       "    <tr>\n",
       "      <th>201309</th>\n",
       "      <td>3.76</td>\n",
       "    </tr>\n",
       "    <tr>\n",
       "      <th>201310</th>\n",
       "      <td>4.17</td>\n",
       "    </tr>\n",
       "    <tr>\n",
       "      <th>201311</th>\n",
       "      <td>3.12</td>\n",
       "    </tr>\n",
       "    <tr>\n",
       "      <th>201312</th>\n",
       "      <td>2.81</td>\n",
       "    </tr>\n",
       "  </tbody>\n",
       "</table>\n",
       "<p>120 rows × 1 columns</p>\n",
       "</div>"
      ],
      "text/plain": [
       "        Market\n",
       "Date          \n",
       "200401    2.22\n",
       "200402    1.46\n",
       "200403   -1.23\n",
       "200404   -1.75\n",
       "200405    1.23\n",
       "...        ...\n",
       "201308   -2.69\n",
       "201309    3.76\n",
       "201310    4.17\n",
       "201311    3.12\n",
       "201312    2.81\n",
       "\n",
       "[120 rows x 1 columns]"
      ]
     },
     "execution_count": 3,
     "metadata": {},
     "output_type": "execute_result"
    }
   ],
   "source": [
    "market"
   ]
  },
  {
   "cell_type": "code",
   "execution_count": 4,
   "id": "19fc8e5b",
   "metadata": {},
   "outputs": [],
   "source": [
    "rf = 0.13"
   ]
  },
  {
   "cell_type": "code",
   "execution_count": 5,
   "id": "344bc228",
   "metadata": {},
   "outputs": [
    {
     "data": {
      "text/html": [
       "<div>\n",
       "<style scoped>\n",
       "    .dataframe tbody tr th:only-of-type {\n",
       "        vertical-align: middle;\n",
       "    }\n",
       "\n",
       "    .dataframe tbody tr th {\n",
       "        vertical-align: top;\n",
       "    }\n",
       "\n",
       "    .dataframe thead th {\n",
       "        text-align: right;\n",
       "    }\n",
       "</style>\n",
       "<table border=\"1\" class=\"dataframe\">\n",
       "  <thead>\n",
       "    <tr style=\"text-align: right;\">\n",
       "      <th></th>\n",
       "      <th>Market</th>\n",
       "    </tr>\n",
       "    <tr>\n",
       "      <th>Date</th>\n",
       "      <th></th>\n",
       "    </tr>\n",
       "  </thead>\n",
       "  <tbody>\n",
       "    <tr>\n",
       "      <th>200401</th>\n",
       "      <td>2.22</td>\n",
       "    </tr>\n",
       "    <tr>\n",
       "      <th>200402</th>\n",
       "      <td>1.46</td>\n",
       "    </tr>\n",
       "    <tr>\n",
       "      <th>200403</th>\n",
       "      <td>-1.23</td>\n",
       "    </tr>\n",
       "    <tr>\n",
       "      <th>200404</th>\n",
       "      <td>-1.75</td>\n",
       "    </tr>\n",
       "    <tr>\n",
       "      <th>200405</th>\n",
       "      <td>1.23</td>\n",
       "    </tr>\n",
       "    <tr>\n",
       "      <th>...</th>\n",
       "      <td>...</td>\n",
       "    </tr>\n",
       "    <tr>\n",
       "      <th>201308</th>\n",
       "      <td>-2.69</td>\n",
       "    </tr>\n",
       "    <tr>\n",
       "      <th>201309</th>\n",
       "      <td>3.76</td>\n",
       "    </tr>\n",
       "    <tr>\n",
       "      <th>201310</th>\n",
       "      <td>4.17</td>\n",
       "    </tr>\n",
       "    <tr>\n",
       "      <th>201311</th>\n",
       "      <td>3.12</td>\n",
       "    </tr>\n",
       "    <tr>\n",
       "      <th>201312</th>\n",
       "      <td>2.81</td>\n",
       "    </tr>\n",
       "  </tbody>\n",
       "</table>\n",
       "<p>120 rows × 1 columns</p>\n",
       "</div>"
      ],
      "text/plain": [
       "        Market\n",
       "Date          \n",
       "200401    2.22\n",
       "200402    1.46\n",
       "200403   -1.23\n",
       "200404   -1.75\n",
       "200405    1.23\n",
       "...        ...\n",
       "201308   -2.69\n",
       "201309    3.76\n",
       "201310    4.17\n",
       "201311    3.12\n",
       "201312    2.81\n",
       "\n",
       "[120 rows x 1 columns]"
      ]
     },
     "execution_count": 5,
     "metadata": {},
     "output_type": "execute_result"
    }
   ],
   "source": [
    "market"
   ]
  },
  {
   "cell_type": "code",
   "execution_count": 6,
   "id": "45e71a0e",
   "metadata": {},
   "outputs": [
    {
     "name": "stderr",
     "output_type": "stream",
     "text": [
      "D:\\anaconda\\Lib\\site-packages\\openpyxl\\worksheet\\_read_only.py:79: UserWarning: Unknown extension is not supported and will be removed\n",
      "  for idx, row in parser.parse():\n"
     ]
    }
   ],
   "source": [
    "data = pd.read_excel(\"Industry_Portfolios.xlsx\",index_col = \"Date\")"
   ]
  },
  {
   "cell_type": "code",
   "execution_count": 7,
   "id": "72a3533b",
   "metadata": {},
   "outputs": [],
   "source": [
    "data[\"market\"] = market"
   ]
  },
  {
   "cell_type": "code",
   "execution_count": 8,
   "id": "c8b559a5",
   "metadata": {},
   "outputs": [],
   "source": [
    "data = data-0.13"
   ]
  },
  {
   "cell_type": "code",
   "execution_count": 9,
   "id": "d63667d2",
   "metadata": {},
   "outputs": [
    {
     "data": {
      "text/html": [
       "<div>\n",
       "<style scoped>\n",
       "    .dataframe tbody tr th:only-of-type {\n",
       "        vertical-align: middle;\n",
       "    }\n",
       "\n",
       "    .dataframe tbody tr th {\n",
       "        vertical-align: top;\n",
       "    }\n",
       "\n",
       "    .dataframe thead th {\n",
       "        text-align: right;\n",
       "    }\n",
       "</style>\n",
       "<table border=\"1\" class=\"dataframe\">\n",
       "  <thead>\n",
       "    <tr style=\"text-align: right;\">\n",
       "      <th></th>\n",
       "      <th>NoDur</th>\n",
       "      <th>Durbl</th>\n",
       "      <th>Manuf</th>\n",
       "      <th>Enrgy</th>\n",
       "      <th>HiTec</th>\n",
       "      <th>Telcm</th>\n",
       "      <th>Shops</th>\n",
       "      <th>Hlth</th>\n",
       "      <th>Utils</th>\n",
       "      <th>Other</th>\n",
       "      <th>market</th>\n",
       "    </tr>\n",
       "    <tr>\n",
       "      <th>Date</th>\n",
       "      <th></th>\n",
       "      <th></th>\n",
       "      <th></th>\n",
       "      <th></th>\n",
       "      <th></th>\n",
       "      <th></th>\n",
       "      <th></th>\n",
       "      <th></th>\n",
       "      <th></th>\n",
       "      <th></th>\n",
       "      <th></th>\n",
       "    </tr>\n",
       "  </thead>\n",
       "  <tbody>\n",
       "    <tr>\n",
       "      <th>200401</th>\n",
       "      <td>-0.07</td>\n",
       "      <td>-1.20</td>\n",
       "      <td>-0.75</td>\n",
       "      <td>0.31</td>\n",
       "      <td>4.40</td>\n",
       "      <td>1.28</td>\n",
       "      <td>0.32</td>\n",
       "      <td>2.96</td>\n",
       "      <td>1.79</td>\n",
       "      <td>2.75</td>\n",
       "      <td>2.09</td>\n",
       "    </tr>\n",
       "    <tr>\n",
       "      <th>200402</th>\n",
       "      <td>4.12</td>\n",
       "      <td>-0.20</td>\n",
       "      <td>1.82</td>\n",
       "      <td>4.56</td>\n",
       "      <td>-3.05</td>\n",
       "      <td>-0.65</td>\n",
       "      <td>5.96</td>\n",
       "      <td>0.76</td>\n",
       "      <td>1.94</td>\n",
       "      <td>2.03</td>\n",
       "      <td>1.33</td>\n",
       "    </tr>\n",
       "    <tr>\n",
       "      <th>200403</th>\n",
       "      <td>-0.22</td>\n",
       "      <td>-1.28</td>\n",
       "      <td>-0.40</td>\n",
       "      <td>-0.26</td>\n",
       "      <td>-2.68</td>\n",
       "      <td>-2.20</td>\n",
       "      <td>0.16</td>\n",
       "      <td>-4.09</td>\n",
       "      <td>1.00</td>\n",
       "      <td>-0.76</td>\n",
       "      <td>-1.36</td>\n",
       "    </tr>\n",
       "    <tr>\n",
       "      <th>200404</th>\n",
       "      <td>1.29</td>\n",
       "      <td>2.17</td>\n",
       "      <td>-0.30</td>\n",
       "      <td>2.39</td>\n",
       "      <td>-5.04</td>\n",
       "      <td>-0.61</td>\n",
       "      <td>-2.83</td>\n",
       "      <td>3.41</td>\n",
       "      <td>-3.68</td>\n",
       "      <td>-3.89</td>\n",
       "      <td>-1.88</td>\n",
       "    </tr>\n",
       "    <tr>\n",
       "      <th>200405</th>\n",
       "      <td>-2.02</td>\n",
       "      <td>-1.77</td>\n",
       "      <td>1.48</td>\n",
       "      <td>0.26</td>\n",
       "      <td>4.72</td>\n",
       "      <td>-3.08</td>\n",
       "      <td>0.17</td>\n",
       "      <td>-0.55</td>\n",
       "      <td>1.15</td>\n",
       "      <td>1.73</td>\n",
       "      <td>1.10</td>\n",
       "    </tr>\n",
       "    <tr>\n",
       "      <th>...</th>\n",
       "      <td>...</td>\n",
       "      <td>...</td>\n",
       "      <td>...</td>\n",
       "      <td>...</td>\n",
       "      <td>...</td>\n",
       "      <td>...</td>\n",
       "      <td>...</td>\n",
       "      <td>...</td>\n",
       "      <td>...</td>\n",
       "      <td>...</td>\n",
       "      <td>...</td>\n",
       "    </tr>\n",
       "    <tr>\n",
       "      <th>201308</th>\n",
       "      <td>-4.13</td>\n",
       "      <td>-1.13</td>\n",
       "      <td>-2.08</td>\n",
       "      <td>-1.96</td>\n",
       "      <td>-0.25</td>\n",
       "      <td>-3.41</td>\n",
       "      <td>-4.34</td>\n",
       "      <td>-3.62</td>\n",
       "      <td>-4.56</td>\n",
       "      <td>-3.79</td>\n",
       "      <td>-2.82</td>\n",
       "    </tr>\n",
       "    <tr>\n",
       "      <th>201309</th>\n",
       "      <td>1.81</td>\n",
       "      <td>6.33</td>\n",
       "      <td>5.07</td>\n",
       "      <td>1.90</td>\n",
       "      <td>3.64</td>\n",
       "      <td>4.20</td>\n",
       "      <td>4.33</td>\n",
       "      <td>4.06</td>\n",
       "      <td>0.92</td>\n",
       "      <td>3.70</td>\n",
       "      <td>3.63</td>\n",
       "    </tr>\n",
       "    <tr>\n",
       "      <th>201310</th>\n",
       "      <td>4.62</td>\n",
       "      <td>0.59</td>\n",
       "      <td>4.43</td>\n",
       "      <td>4.73</td>\n",
       "      <td>3.67</td>\n",
       "      <td>5.39</td>\n",
       "      <td>4.95</td>\n",
       "      <td>3.34</td>\n",
       "      <td>3.22</td>\n",
       "      <td>3.74</td>\n",
       "      <td>4.04</td>\n",
       "    </tr>\n",
       "    <tr>\n",
       "      <th>201311</th>\n",
       "      <td>1.16</td>\n",
       "      <td>1.68</td>\n",
       "      <td>2.82</td>\n",
       "      <td>0.72</td>\n",
       "      <td>3.52</td>\n",
       "      <td>0.14</td>\n",
       "      <td>3.54</td>\n",
       "      <td>4.41</td>\n",
       "      <td>-1.94</td>\n",
       "      <td>4.61</td>\n",
       "      <td>2.99</td>\n",
       "    </tr>\n",
       "    <tr>\n",
       "      <th>201312</th>\n",
       "      <td>2.52</td>\n",
       "      <td>1.05</td>\n",
       "      <td>3.00</td>\n",
       "      <td>2.82</td>\n",
       "      <td>3.91</td>\n",
       "      <td>3.83</td>\n",
       "      <td>0.07</td>\n",
       "      <td>0.58</td>\n",
       "      <td>1.66</td>\n",
       "      <td>2.98</td>\n",
       "      <td>2.68</td>\n",
       "    </tr>\n",
       "  </tbody>\n",
       "</table>\n",
       "<p>120 rows × 11 columns</p>\n",
       "</div>"
      ],
      "text/plain": [
       "        NoDur  Durbl  Manuf  Enrgy  HiTec  Telcm  Shops  Hlth  Utils  Other  \\\n",
       "Date                                                                          \n",
       "200401  -0.07  -1.20  -0.75   0.31   4.40   1.28   0.32  2.96   1.79   2.75   \n",
       "200402   4.12  -0.20   1.82   4.56  -3.05  -0.65   5.96  0.76   1.94   2.03   \n",
       "200403  -0.22  -1.28  -0.40  -0.26  -2.68  -2.20   0.16 -4.09   1.00  -0.76   \n",
       "200404   1.29   2.17  -0.30   2.39  -5.04  -0.61  -2.83  3.41  -3.68  -3.89   \n",
       "200405  -2.02  -1.77   1.48   0.26   4.72  -3.08   0.17 -0.55   1.15   1.73   \n",
       "...       ...    ...    ...    ...    ...    ...    ...   ...    ...    ...   \n",
       "201308  -4.13  -1.13  -2.08  -1.96  -0.25  -3.41  -4.34 -3.62  -4.56  -3.79   \n",
       "201309   1.81   6.33   5.07   1.90   3.64   4.20   4.33  4.06   0.92   3.70   \n",
       "201310   4.62   0.59   4.43   4.73   3.67   5.39   4.95  3.34   3.22   3.74   \n",
       "201311   1.16   1.68   2.82   0.72   3.52   0.14   3.54  4.41  -1.94   4.61   \n",
       "201312   2.52   1.05   3.00   2.82   3.91   3.83   0.07  0.58   1.66   2.98   \n",
       "\n",
       "        market  \n",
       "Date            \n",
       "200401    2.09  \n",
       "200402    1.33  \n",
       "200403   -1.36  \n",
       "200404   -1.88  \n",
       "200405    1.10  \n",
       "...        ...  \n",
       "201308   -2.82  \n",
       "201309    3.63  \n",
       "201310    4.04  \n",
       "201311    2.99  \n",
       "201312    2.68  \n",
       "\n",
       "[120 rows x 11 columns]"
      ]
     },
     "execution_count": 9,
     "metadata": {},
     "output_type": "execute_result"
    }
   ],
   "source": [
    "data"
   ]
  },
  {
   "cell_type": "code",
   "execution_count": 10,
   "id": "97933e92",
   "metadata": {},
   "outputs": [
    {
     "data": {
      "text/plain": [
       "Index(['NoDur', 'Durbl', 'Manuf', 'Enrgy', 'HiTec', 'Telcm', 'Shops', 'Hlth',\n",
       "       'Utils', 'Other'],\n",
       "      dtype='object')"
      ]
     },
     "execution_count": 10,
     "metadata": {},
     "output_type": "execute_result"
    }
   ],
   "source": [
    "company = data.columns[:-1]\n",
    "company"
   ]
  },
  {
   "cell_type": "code",
   "execution_count": 11,
   "id": "3fc53384",
   "metadata": {},
   "outputs": [],
   "source": [
    "from scipy.stats import linregress"
   ]
  },
  {
   "cell_type": "code",
   "execution_count": 12,
   "id": "e56e3d4b",
   "metadata": {},
   "outputs": [],
   "source": [
    "from matplotlib.pyplot import subplot, scatter, plot, axis"
   ]
  },
  {
   "cell_type": "code",
   "execution_count": 13,
   "id": "37121a51",
   "metadata": {},
   "outputs": [
    {
     "name": "stdout",
     "output_type": "stream",
     "text": [
      "0.653 0.37\n"
     ]
    }
   ],
   "source": [
    "slope, intercept, r_value, p_value, std_err = linregress(data[\"market\"], data[\"NoDur\"])\n",
    "print(\"{0:.3f}\"\n",
    "      .format(slope, intercept)\n",
    "     )"
   ]
  },
  {
   "cell_type": "code",
   "execution_count": 14,
   "id": "27b298d5",
   "metadata": {},
   "outputs": [
    {
     "name": "stdout",
     "output_type": "stream",
     "text": [
      "1.649 -0.42\n"
     ]
    }
   ],
   "source": [
    "slope, intercept, r_value, p_value, std_err = linregress(data[\"market\"], data[\"Durbl\"])\n",
    "print(\"{0:.3f} {1:.2f}\"\n",
    "      .format(slope, intercept)\n",
    "     )"
   ]
  },
  {
   "cell_type": "code",
   "execution_count": 15,
   "id": "37dc4385",
   "metadata": {},
   "outputs": [
    {
     "name": "stdout",
     "output_type": "stream",
     "text": [
      "1.170 0.16\n"
     ]
    }
   ],
   "source": [
    "slope, intercept, r_value, p_value, std_err = linregress(data[\"market\"], data[\"Manuf\"])\n",
    "print(\"{0:.3f} {1:.2f}\"\n",
    "      .format(slope, intercept)\n",
    "     )"
   ]
  },
  {
   "cell_type": "code",
   "execution_count": 16,
   "id": "4021401f",
   "metadata": {},
   "outputs": [
    {
     "name": "stdout",
     "output_type": "stream",
     "text": [
      "0.970 0.50\n"
     ]
    }
   ],
   "source": [
    "slope, intercept, r_value, p_value, std_err = linregress(data[\"market\"], data[\"Enrgy\"])\n",
    "print(\"{0:.3f} {1:.2f}\"\n",
    "      .format(slope, intercept)\n",
    "     )"
   ]
  },
  {
   "cell_type": "code",
   "execution_count": 17,
   "id": "136224b9",
   "metadata": {},
   "outputs": [
    {
     "name": "stdout",
     "output_type": "stream",
     "text": [
      "1.133 -0.06\n"
     ]
    }
   ],
   "source": [
    "slope, intercept, r_value, p_value, std_err = linregress(data[\"market\"], data[\"HiTec\"])\n",
    "print(\"{0:.3f} {1:.2f}\"\n",
    "      .format(slope, intercept)\n",
    "     )"
   ]
  },
  {
   "cell_type": "code",
   "execution_count": 18,
   "id": "8d8a25bf",
   "metadata": {},
   "outputs": [
    {
     "name": "stdout",
     "output_type": "stream",
     "text": [
      "0.901 0.19\n"
     ]
    }
   ],
   "source": [
    "slope, intercept, r_value, p_value, std_err = linregress(data[\"market\"], data[\"Telcm\"])\n",
    "print(\"{0:.3f} {1:.2f}\"\n",
    "      .format(slope, intercept)\n",
    "     )"
   ]
  },
  {
   "cell_type": "code",
   "execution_count": 19,
   "id": "e736e9e1",
   "metadata": {},
   "outputs": [
    {
     "name": "stdout",
     "output_type": "stream",
     "text": [
      "0.826 0.28\n"
     ]
    }
   ],
   "source": [
    "slope, intercept, r_value, p_value, std_err = linregress(data[\"market\"], data[\"Shops\"])\n",
    "print(\"{0:.3f} {1:.2f}\"\n",
    "      .format(slope, intercept)\n",
    "     )"
   ]
  },
  {
   "cell_type": "code",
   "execution_count": 20,
   "id": "864bc9d6",
   "metadata": {},
   "outputs": [
    {
     "name": "stdout",
     "output_type": "stream",
     "text": [
      "0.673 0.24\n"
     ]
    }
   ],
   "source": [
    "slope, intercept, r_value, p_value, std_err = linregress(data[\"market\"], data[\"Hlth\"])\n",
    "print(\"{0:.3f} {1:.2f}\"\n",
    "      .format(slope, intercept)\n",
    "     )"
   ]
  },
  {
   "cell_type": "code",
   "execution_count": 21,
   "id": "1996e76a",
   "metadata": {},
   "outputs": [
    {
     "name": "stdout",
     "output_type": "stream",
     "text": [
      "0.538 0.44\n"
     ]
    }
   ],
   "source": [
    "slope, intercept, r_value, p_value, std_err = linregress(data[\"market\"], data[\"Utils\"])\n",
    "print(\"{0:.3f} {1:.2f}\"\n",
    "      .format(slope, intercept)\n",
    "     )"
   ]
  },
  {
   "cell_type": "code",
   "execution_count": 22,
   "id": "bc73e76f",
   "metadata": {},
   "outputs": [
    {
     "name": "stdout",
     "output_type": "stream",
     "text": [
      "1.207 -0.39\n"
     ]
    }
   ],
   "source": [
    "slope, intercept, r_value, p_value, std_err = linregress(data[\"market\"], data[\"Other\"])\n",
    "print(\"{0:.3f} {1:.2f}\"\n",
    "      .format(slope, intercept)\n",
    "     )"
   ]
  },
  {
   "cell_type": "code",
   "execution_count": 23,
   "id": "9f91a16e",
   "metadata": {},
   "outputs": [],
   "source": [
    "slope = np.array([0.653,1.649,1.170,0.970,1.133,0.901,0.826,0.673,0.538,1.207])\n",
    "intercept = np.array([0.37,-0.42,0.16,0.50,-0.06,0.19,0.28,0.24,0.44,-0.39])"
   ]
  },
  {
   "cell_type": "code",
   "execution_count": 24,
   "id": "1c2ecd76",
   "metadata": {},
   "outputs": [],
   "source": [
    "df = pd.DataFrame({'slope': slope, 'intercept': intercept})"
   ]
  },
  {
   "cell_type": "code",
   "execution_count": 25,
   "id": "338e9eaa",
   "metadata": {},
   "outputs": [],
   "source": [
    "df[\"company\"] = company"
   ]
  },
  {
   "cell_type": "code",
   "execution_count": 26,
   "id": "9f6356ad",
   "metadata": {},
   "outputs": [],
   "source": [
    "df.set_index(\"company\",inplace=True)"
   ]
  },
  {
   "cell_type": "code",
   "execution_count": 27,
   "id": "d39f3fc8",
   "metadata": {},
   "outputs": [
    {
     "data": {
      "text/html": [
       "<div>\n",
       "<style scoped>\n",
       "    .dataframe tbody tr th:only-of-type {\n",
       "        vertical-align: middle;\n",
       "    }\n",
       "\n",
       "    .dataframe tbody tr th {\n",
       "        vertical-align: top;\n",
       "    }\n",
       "\n",
       "    .dataframe thead th {\n",
       "        text-align: right;\n",
       "    }\n",
       "</style>\n",
       "<table border=\"1\" class=\"dataframe\">\n",
       "  <thead>\n",
       "    <tr style=\"text-align: right;\">\n",
       "      <th></th>\n",
       "      <th>slope</th>\n",
       "      <th>intercept</th>\n",
       "    </tr>\n",
       "    <tr>\n",
       "      <th>company</th>\n",
       "      <th></th>\n",
       "      <th></th>\n",
       "    </tr>\n",
       "  </thead>\n",
       "  <tbody>\n",
       "    <tr>\n",
       "      <th>NoDur</th>\n",
       "      <td>0.653</td>\n",
       "      <td>0.37</td>\n",
       "    </tr>\n",
       "    <tr>\n",
       "      <th>Durbl</th>\n",
       "      <td>1.649</td>\n",
       "      <td>-0.42</td>\n",
       "    </tr>\n",
       "    <tr>\n",
       "      <th>Manuf</th>\n",
       "      <td>1.170</td>\n",
       "      <td>0.16</td>\n",
       "    </tr>\n",
       "    <tr>\n",
       "      <th>Enrgy</th>\n",
       "      <td>0.970</td>\n",
       "      <td>0.50</td>\n",
       "    </tr>\n",
       "    <tr>\n",
       "      <th>HiTec</th>\n",
       "      <td>1.133</td>\n",
       "      <td>-0.06</td>\n",
       "    </tr>\n",
       "    <tr>\n",
       "      <th>Telcm</th>\n",
       "      <td>0.901</td>\n",
       "      <td>0.19</td>\n",
       "    </tr>\n",
       "    <tr>\n",
       "      <th>Shops</th>\n",
       "      <td>0.826</td>\n",
       "      <td>0.28</td>\n",
       "    </tr>\n",
       "    <tr>\n",
       "      <th>Hlth</th>\n",
       "      <td>0.673</td>\n",
       "      <td>0.24</td>\n",
       "    </tr>\n",
       "    <tr>\n",
       "      <th>Utils</th>\n",
       "      <td>0.538</td>\n",
       "      <td>0.44</td>\n",
       "    </tr>\n",
       "    <tr>\n",
       "      <th>Other</th>\n",
       "      <td>1.207</td>\n",
       "      <td>-0.39</td>\n",
       "    </tr>\n",
       "  </tbody>\n",
       "</table>\n",
       "</div>"
      ],
      "text/plain": [
       "         slope  intercept\n",
       "company                  \n",
       "NoDur    0.653       0.37\n",
       "Durbl    1.649      -0.42\n",
       "Manuf    1.170       0.16\n",
       "Enrgy    0.970       0.50\n",
       "HiTec    1.133      -0.06\n",
       "Telcm    0.901       0.19\n",
       "Shops    0.826       0.28\n",
       "Hlth     0.673       0.24\n",
       "Utils    0.538       0.44\n",
       "Other    1.207      -0.39"
      ]
     },
     "execution_count": 27,
     "metadata": {},
     "output_type": "execute_result"
    }
   ],
   "source": [
    "df"
   ]
  },
  {
   "cell_type": "code",
   "execution_count": 28,
   "id": "f2b88d04",
   "metadata": {},
   "outputs": [],
   "source": [
    "df.loc[\"market\"] = [1.000,0.00]"
   ]
  },
  {
   "cell_type": "code",
   "execution_count": 29,
   "id": "eb51f293",
   "metadata": {},
   "outputs": [
    {
     "data": {
      "text/html": [
       "<div>\n",
       "<style scoped>\n",
       "    .dataframe tbody tr th:only-of-type {\n",
       "        vertical-align: middle;\n",
       "    }\n",
       "\n",
       "    .dataframe tbody tr th {\n",
       "        vertical-align: top;\n",
       "    }\n",
       "\n",
       "    .dataframe thead th {\n",
       "        text-align: right;\n",
       "    }\n",
       "</style>\n",
       "<table border=\"1\" class=\"dataframe\">\n",
       "  <thead>\n",
       "    <tr style=\"text-align: right;\">\n",
       "      <th></th>\n",
       "      <th>slope</th>\n",
       "      <th>intercept</th>\n",
       "    </tr>\n",
       "    <tr>\n",
       "      <th>company</th>\n",
       "      <th></th>\n",
       "      <th></th>\n",
       "    </tr>\n",
       "  </thead>\n",
       "  <tbody>\n",
       "    <tr>\n",
       "      <th>NoDur</th>\n",
       "      <td>0.653</td>\n",
       "      <td>0.37</td>\n",
       "    </tr>\n",
       "    <tr>\n",
       "      <th>Durbl</th>\n",
       "      <td>1.649</td>\n",
       "      <td>-0.42</td>\n",
       "    </tr>\n",
       "    <tr>\n",
       "      <th>Manuf</th>\n",
       "      <td>1.170</td>\n",
       "      <td>0.16</td>\n",
       "    </tr>\n",
       "    <tr>\n",
       "      <th>Enrgy</th>\n",
       "      <td>0.970</td>\n",
       "      <td>0.50</td>\n",
       "    </tr>\n",
       "    <tr>\n",
       "      <th>HiTec</th>\n",
       "      <td>1.133</td>\n",
       "      <td>-0.06</td>\n",
       "    </tr>\n",
       "    <tr>\n",
       "      <th>Telcm</th>\n",
       "      <td>0.901</td>\n",
       "      <td>0.19</td>\n",
       "    </tr>\n",
       "    <tr>\n",
       "      <th>Shops</th>\n",
       "      <td>0.826</td>\n",
       "      <td>0.28</td>\n",
       "    </tr>\n",
       "    <tr>\n",
       "      <th>Hlth</th>\n",
       "      <td>0.673</td>\n",
       "      <td>0.24</td>\n",
       "    </tr>\n",
       "    <tr>\n",
       "      <th>Utils</th>\n",
       "      <td>0.538</td>\n",
       "      <td>0.44</td>\n",
       "    </tr>\n",
       "    <tr>\n",
       "      <th>Other</th>\n",
       "      <td>1.207</td>\n",
       "      <td>-0.39</td>\n",
       "    </tr>\n",
       "    <tr>\n",
       "      <th>market</th>\n",
       "      <td>1.000</td>\n",
       "      <td>0.00</td>\n",
       "    </tr>\n",
       "  </tbody>\n",
       "</table>\n",
       "</div>"
      ],
      "text/plain": [
       "         slope  intercept\n",
       "company                  \n",
       "NoDur    0.653       0.37\n",
       "Durbl    1.649      -0.42\n",
       "Manuf    1.170       0.16\n",
       "Enrgy    0.970       0.50\n",
       "HiTec    1.133      -0.06\n",
       "Telcm    0.901       0.19\n",
       "Shops    0.826       0.28\n",
       "Hlth     0.673       0.24\n",
       "Utils    0.538       0.44\n",
       "Other    1.207      -0.39\n",
       "market   1.000       0.00"
      ]
     },
     "execution_count": 29,
     "metadata": {},
     "output_type": "execute_result"
    }
   ],
   "source": [
    "df"
   ]
  },
  {
   "cell_type": "code",
   "execution_count": 30,
   "id": "d4a68bf7",
   "metadata": {},
   "outputs": [
    {
     "name": "stderr",
     "output_type": "stream",
     "text": [
      "D:\\anaconda\\Lib\\site-packages\\openpyxl\\worksheet\\_read_only.py:79: UserWarning: Unknown extension is not supported and will be removed\n",
      "  for idx, row in parser.parse():\n"
     ]
    }
   ],
   "source": [
    "dataset = pd.read_excel(\"Industry_Portfolios.xlsx\",index_col = \"Date\")"
   ]
  },
  {
   "cell_type": "code",
   "execution_count": 31,
   "id": "44e21fab",
   "metadata": {},
   "outputs": [
    {
     "data": {
      "text/plain": [
       "NoDur    0.902833\n",
       "Durbl    0.733333\n",
       "Manuf    1.012833\n",
       "Enrgy    1.231167\n",
       "HiTec    0.766250\n",
       "Telcm    0.881417\n",
       "Shops    0.916333\n",
       "Hlth     0.783833\n",
       "Utils    0.907167\n",
       "Other    0.489083\n",
       "dtype: float64"
      ]
     },
     "execution_count": 31,
     "metadata": {},
     "output_type": "execute_result"
    }
   ],
   "source": [
    "c = dataset.mean()\n",
    "c"
   ]
  },
  {
   "cell_type": "code",
   "execution_count": 32,
   "id": "927e4dd3",
   "metadata": {},
   "outputs": [
    {
     "name": "stderr",
     "output_type": "stream",
     "text": [
      "D:\\anaconda\\Lib\\site-packages\\openpyxl\\worksheet\\_read_only.py:79: UserWarning: Unknown extension is not supported and will be removed\n",
      "  for idx, row in parser.parse():\n"
     ]
    }
   ],
   "source": [
    "rm = pd.read_excel(\"Market_Portfolio.xlsx\",index_col = \"Date\")"
   ]
  },
  {
   "cell_type": "code",
   "execution_count": 33,
   "id": "ca4e0f50",
   "metadata": {},
   "outputs": [],
   "source": [
    "b = rm.mean()"
   ]
  },
  {
   "cell_type": "code",
   "execution_count": 34,
   "id": "54a47c63",
   "metadata": {},
   "outputs": [
    {
     "name": "stderr",
     "output_type": "stream",
     "text": [
      "C:\\Users\\dell\\AppData\\Local\\Temp\\ipykernel_7404\\2032166335.py:1: FutureWarning: Series.__getitem__ treating keys as positions is deprecated. In a future version, integer keys will always be treated as labels (consistent with DataFrame behavior). To access a value by position, use `ser.iloc[pos]`\n",
      "  c.loc['market']=b[0]\n"
     ]
    },
    {
     "data": {
      "text/plain": [
       "NoDur     0.902833\n",
       "Durbl     0.733333\n",
       "Manuf     1.012833\n",
       "Enrgy     1.231167\n",
       "HiTec     0.766250\n",
       "Telcm     0.881417\n",
       "Shops     0.916333\n",
       "Hlth      0.783833\n",
       "Utils     0.907167\n",
       "Other     0.489083\n",
       "market    0.748083\n",
       "dtype: float64"
      ]
     },
     "execution_count": 34,
     "metadata": {},
     "output_type": "execute_result"
    }
   ],
   "source": [
    "c.loc['market']=b[0]\n",
    "c"
   ]
  },
  {
   "cell_type": "code",
   "execution_count": 35,
   "id": "84ee0690",
   "metadata": {},
   "outputs": [
    {
     "data": {
      "text/plain": [
       "array([[  2.09,   1.33,  -1.36,  -1.88,   1.1 ,   1.81,  -4.1 ,   0.06,\n",
       "          1.58,   1.41,   4.56,   3.45,  -2.73,   1.92,  -1.89,  -2.53,\n",
       "          3.76,   0.67,   4.03,  -1.05,   0.65,  -1.88,   3.79,  -0.06,\n",
       "          3.26,  -0.09,   1.7 ,   0.96,  -3.27,  -0.08,  -0.51,   2.32,\n",
       "          2.12,   3.51,   2.  ,   1.14,   1.71,  -1.71,   0.98,   3.8 ,\n",
       "          3.52,  -1.69,  -3.46,   1.21,   3.41,   1.99,  -4.62,  -0.73,\n",
       "         -6.27,  -3.09,  -0.9 ,   4.65,   1.91,  -8.4 ,  -0.75,   1.53,\n",
       "         -9.22, -17.28,  -7.96,   1.62,  -8.25, -10.22,   8.84,  10.07,\n",
       "          5.08,   0.31,   7.6 ,   3.2 ,   3.96,  -2.72,   5.43,   2.63,\n",
       "         -3.49,   3.27,   6.2 ,   1.88,  -8.01,  -5.68,   6.8 ,  -4.89,\n",
       "          9.42,   3.76,   0.48,   6.7 ,   1.89,   3.37,   0.35,   2.77,\n",
       "         -1.4 ,  -1.88,  -2.47,  -6.12,  -7.73,  11.21,  -0.39,   0.61,\n",
       "          4.93,   4.3 ,   2.98,  -0.97,  -6.32,   3.75,   0.66,   2.44,\n",
       "          2.62,  -1.87,   0.65,   1.06,   5.45,   1.15,   3.9 ,   1.43,\n",
       "          2.68,  -1.34,   5.53,  -2.82,   3.63,   4.04,   2.99,   2.68]])"
      ]
     },
     "execution_count": 35,
     "metadata": {},
     "output_type": "execute_result"
    }
   ],
   "source": [
    "risk_premium = rm-rf\n",
    "market_risk_premium = np.array([risk_premium[\"Market\"]])\n",
    "market_risk_premium"
   ]
  },
  {
   "cell_type": "code",
   "execution_count": 36,
   "id": "f58476b3",
   "metadata": {},
   "outputs": [],
   "source": [
    "alepha = np.array([df[\"intercept\"]])"
   ]
  },
  {
   "cell_type": "code",
   "execution_count": 37,
   "id": "4d13d5e2",
   "metadata": {},
   "outputs": [
    {
     "data": {
      "text/plain": [
       "array([[ 0.37, -0.42,  0.16,  0.5 , -0.06,  0.19,  0.28,  0.24,  0.44,\n",
       "        -0.39,  0.  ]])"
      ]
     },
     "execution_count": 37,
     "metadata": {},
     "output_type": "execute_result"
    }
   ],
   "source": [
    "alepha"
   ]
  },
  {
   "cell_type": "code",
   "execution_count": 38,
   "id": "191025e2",
   "metadata": {},
   "outputs": [],
   "source": [
    "beta = np.array([df[\"slope\"]])"
   ]
  },
  {
   "cell_type": "code",
   "execution_count": 39,
   "id": "90d64b03",
   "metadata": {},
   "outputs": [
    {
     "data": {
      "text/plain": [
       "array([[0.653, 1.649, 1.17 , 0.97 , 1.133, 0.901, 0.826, 0.673, 0.538,\n",
       "        1.207, 1.   ]])"
      ]
     },
     "execution_count": 39,
     "metadata": {},
     "output_type": "execute_result"
    }
   ],
   "source": [
    "beta"
   ]
  },
  {
   "cell_type": "code",
   "execution_count": 40,
   "id": "6612dd71",
   "metadata": {},
   "outputs": [
    {
     "data": {
      "text/plain": [
       "company\n",
       "NoDur     0.653\n",
       "Durbl     1.649\n",
       "Manuf     1.170\n",
       "Enrgy     0.970\n",
       "HiTec     1.133\n",
       "Telcm     0.901\n",
       "Shops     0.826\n",
       "Hlth      0.673\n",
       "Utils     0.538\n",
       "Other     1.207\n",
       "market    1.000\n",
       "Name: slope, dtype: float64"
      ]
     },
     "execution_count": 40,
     "metadata": {},
     "output_type": "execute_result"
    }
   ],
   "source": [
    "df[\"slope\"]"
   ]
  },
  {
   "cell_type": "code",
   "execution_count": 41,
   "id": "612ecf9e",
   "metadata": {},
   "outputs": [
    {
     "data": {
      "text/plain": [
       "NoDur     0.902833\n",
       "Durbl     0.733333\n",
       "Manuf     1.012833\n",
       "Enrgy     1.231167\n",
       "HiTec     0.766250\n",
       "Telcm     0.881417\n",
       "Shops     0.916333\n",
       "Hlth      0.783833\n",
       "Utils     0.907167\n",
       "Other     0.489083\n",
       "market    0.748083\n",
       "dtype: float64"
      ]
     },
     "execution_count": 41,
     "metadata": {},
     "output_type": "execute_result"
    }
   ],
   "source": [
    "c"
   ]
  },
  {
   "cell_type": "code",
   "execution_count": 48,
   "id": "e18f6771",
   "metadata": {},
   "outputs": [
    {
     "data": {
      "image/png": "[encoded data removed]",
      "text/plain": [
       "<Figure size 640x480 with 1 Axes>"
      ]
     },
     "metadata": {},
     "output_type": "display_data"
    }
   ],
   "source": [
    "x=df['slope']\n",
    "y=c\n",
    "a,b=np.polyfit(x,y,1)\n",
    "plt.scatter(x,y)\n",
    "plt.plot([0,2],[b,a*2+b])\n",
    "plt.xlim(0, 2)\n",
    "plt.xlabel('Beta')\n",
    "plt.ylabel('Returns')\n",
    "plt.show()"
   ]
  },
  {
   "cell_type": "code",
   "execution_count": null,
   "id": "c59f3665",
   "metadata": {},
   "outputs": [],
   "source": []
  }
 ],
 "metadata": {
  "kernelspec": {
   "display_name": "Python 3 (ipykernel)",
   "language": "python",
   "name": "python3"
  },
  "language_info": {
   "codemirror_mode": {
    "name": "ipython",
    "version": 3
   },
   "file_extension": ".py",
   "mimetype": "text/x-python",
   "name": "python",
   "nbconvert_exporter": "python",
   "pygments_lexer": "ipython3",
   "version": "3.11.4"
  }
 },
 "nbformat": 4,
 "nbformat_minor": 5
}
