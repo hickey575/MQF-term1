{
 "cells": [
  {
   "cell_type": "code",
   "execution_count": 1,
   "id": "1bcfb57d",
   "metadata": {},
   "outputs": [],
   "source": [
    "import numpy as np\n",
    "import pandas as pd\n",
    "from pandas import Series,DataFrame\n",
    "from matplotlib import pyplot as plt"
   ]
  },
  {
   "cell_type": "code",
   "execution_count": 2,
   "id": "9a47afb3",
   "metadata": {},
   "outputs": [
    {
     "name": "stderr",
     "output_type": "stream",
     "text": [
      "D:\\anaconda\\Lib\\site-packages\\openpyxl\\worksheet\\_read_only.py:79: UserWarning: Unknown extension is not supported and will be removed\n",
      "  for idx, row in parser.parse():\n"
     ]
    }
   ],
   "source": [
    "data = pd.read_excel(\"Industry_Portfolios.xlsx\",index_col = \"Date\")"
   ]
  },
  {
   "cell_type": "code",
   "execution_count": 3,
   "id": "8cc0f1a3",
   "metadata": {},
   "outputs": [
    {
     "data": {
      "text/html": [
       "<div>\n",
       "<style scoped>\n",
       "    .dataframe tbody tr th:only-of-type {\n",
       "        vertical-align: middle;\n",
       "    }\n",
       "\n",
       "    .dataframe tbody tr th {\n",
       "        vertical-align: top;\n",
       "    }\n",
       "\n",
       "    .dataframe thead th {\n",
       "        text-align: right;\n",
       "    }\n",
       "</style>\n",
       "<table border=\"1\" class=\"dataframe\">\n",
       "  <thead>\n",
       "    <tr style=\"text-align: right;\">\n",
       "      <th></th>\n",
       "      <th>NoDur</th>\n",
       "      <th>Durbl</th>\n",
       "      <th>Manuf</th>\n",
       "      <th>Enrgy</th>\n",
       "      <th>HiTec</th>\n",
       "      <th>Telcm</th>\n",
       "      <th>Shops</th>\n",
       "      <th>Hlth</th>\n",
       "      <th>Utils</th>\n",
       "      <th>Other</th>\n",
       "    </tr>\n",
       "    <tr>\n",
       "      <th>Date</th>\n",
       "      <th></th>\n",
       "      <th></th>\n",
       "      <th></th>\n",
       "      <th></th>\n",
       "      <th></th>\n",
       "      <th></th>\n",
       "      <th></th>\n",
       "      <th></th>\n",
       "      <th></th>\n",
       "      <th></th>\n",
       "    </tr>\n",
       "  </thead>\n",
       "  <tbody>\n",
       "    <tr>\n",
       "      <th>200401</th>\n",
       "      <td>0.06</td>\n",
       "      <td>-1.07</td>\n",
       "      <td>-0.62</td>\n",
       "      <td>0.44</td>\n",
       "      <td>4.53</td>\n",
       "      <td>1.41</td>\n",
       "      <td>0.45</td>\n",
       "      <td>3.09</td>\n",
       "      <td>1.92</td>\n",
       "      <td>2.88</td>\n",
       "    </tr>\n",
       "    <tr>\n",
       "      <th>200402</th>\n",
       "      <td>4.25</td>\n",
       "      <td>-0.07</td>\n",
       "      <td>1.95</td>\n",
       "      <td>4.69</td>\n",
       "      <td>-2.92</td>\n",
       "      <td>-0.52</td>\n",
       "      <td>6.09</td>\n",
       "      <td>0.89</td>\n",
       "      <td>2.07</td>\n",
       "      <td>2.16</td>\n",
       "    </tr>\n",
       "    <tr>\n",
       "      <th>200403</th>\n",
       "      <td>-0.09</td>\n",
       "      <td>-1.15</td>\n",
       "      <td>-0.27</td>\n",
       "      <td>-0.13</td>\n",
       "      <td>-2.55</td>\n",
       "      <td>-2.07</td>\n",
       "      <td>0.29</td>\n",
       "      <td>-3.96</td>\n",
       "      <td>1.13</td>\n",
       "      <td>-0.63</td>\n",
       "    </tr>\n",
       "    <tr>\n",
       "      <th>200404</th>\n",
       "      <td>1.42</td>\n",
       "      <td>2.30</td>\n",
       "      <td>-0.17</td>\n",
       "      <td>2.52</td>\n",
       "      <td>-4.91</td>\n",
       "      <td>-0.48</td>\n",
       "      <td>-2.70</td>\n",
       "      <td>3.54</td>\n",
       "      <td>-3.55</td>\n",
       "      <td>-3.76</td>\n",
       "    </tr>\n",
       "    <tr>\n",
       "      <th>200405</th>\n",
       "      <td>-1.89</td>\n",
       "      <td>-1.64</td>\n",
       "      <td>1.61</td>\n",
       "      <td>0.39</td>\n",
       "      <td>4.85</td>\n",
       "      <td>-2.95</td>\n",
       "      <td>0.30</td>\n",
       "      <td>-0.42</td>\n",
       "      <td>1.28</td>\n",
       "      <td>1.86</td>\n",
       "    </tr>\n",
       "    <tr>\n",
       "      <th>...</th>\n",
       "      <td>...</td>\n",
       "      <td>...</td>\n",
       "      <td>...</td>\n",
       "      <td>...</td>\n",
       "      <td>...</td>\n",
       "      <td>...</td>\n",
       "      <td>...</td>\n",
       "      <td>...</td>\n",
       "      <td>...</td>\n",
       "      <td>...</td>\n",
       "    </tr>\n",
       "    <tr>\n",
       "      <th>201308</th>\n",
       "      <td>-4.00</td>\n",
       "      <td>-1.00</td>\n",
       "      <td>-1.95</td>\n",
       "      <td>-1.83</td>\n",
       "      <td>-0.12</td>\n",
       "      <td>-3.28</td>\n",
       "      <td>-4.21</td>\n",
       "      <td>-3.49</td>\n",
       "      <td>-4.43</td>\n",
       "      <td>-3.66</td>\n",
       "    </tr>\n",
       "    <tr>\n",
       "      <th>201309</th>\n",
       "      <td>1.94</td>\n",
       "      <td>6.46</td>\n",
       "      <td>5.20</td>\n",
       "      <td>2.03</td>\n",
       "      <td>3.77</td>\n",
       "      <td>4.33</td>\n",
       "      <td>4.46</td>\n",
       "      <td>4.19</td>\n",
       "      <td>1.05</td>\n",
       "      <td>3.83</td>\n",
       "    </tr>\n",
       "    <tr>\n",
       "      <th>201310</th>\n",
       "      <td>4.75</td>\n",
       "      <td>0.72</td>\n",
       "      <td>4.56</td>\n",
       "      <td>4.86</td>\n",
       "      <td>3.80</td>\n",
       "      <td>5.52</td>\n",
       "      <td>5.08</td>\n",
       "      <td>3.47</td>\n",
       "      <td>3.35</td>\n",
       "      <td>3.87</td>\n",
       "    </tr>\n",
       "    <tr>\n",
       "      <th>201311</th>\n",
       "      <td>1.29</td>\n",
       "      <td>1.81</td>\n",
       "      <td>2.95</td>\n",
       "      <td>0.85</td>\n",
       "      <td>3.65</td>\n",
       "      <td>0.27</td>\n",
       "      <td>3.67</td>\n",
       "      <td>4.54</td>\n",
       "      <td>-1.81</td>\n",
       "      <td>4.74</td>\n",
       "    </tr>\n",
       "    <tr>\n",
       "      <th>201312</th>\n",
       "      <td>2.65</td>\n",
       "      <td>1.18</td>\n",
       "      <td>3.13</td>\n",
       "      <td>2.95</td>\n",
       "      <td>4.04</td>\n",
       "      <td>3.96</td>\n",
       "      <td>0.20</td>\n",
       "      <td>0.71</td>\n",
       "      <td>1.79</td>\n",
       "      <td>3.11</td>\n",
       "    </tr>\n",
       "  </tbody>\n",
       "</table>\n",
       "<p>120 rows × 10 columns</p>\n",
       "</div>"
      ],
      "text/plain": [
       "        NoDur  Durbl  Manuf  Enrgy  HiTec  Telcm  Shops  Hlth  Utils  Other\n",
       "Date                                                                       \n",
       "200401   0.06  -1.07  -0.62   0.44   4.53   1.41   0.45  3.09   1.92   2.88\n",
       "200402   4.25  -0.07   1.95   4.69  -2.92  -0.52   6.09  0.89   2.07   2.16\n",
       "200403  -0.09  -1.15  -0.27  -0.13  -2.55  -2.07   0.29 -3.96   1.13  -0.63\n",
       "200404   1.42   2.30  -0.17   2.52  -4.91  -0.48  -2.70  3.54  -3.55  -3.76\n",
       "200405  -1.89  -1.64   1.61   0.39   4.85  -2.95   0.30 -0.42   1.28   1.86\n",
       "...       ...    ...    ...    ...    ...    ...    ...   ...    ...    ...\n",
       "201308  -4.00  -1.00  -1.95  -1.83  -0.12  -3.28  -4.21 -3.49  -4.43  -3.66\n",
       "201309   1.94   6.46   5.20   2.03   3.77   4.33   4.46  4.19   1.05   3.83\n",
       "201310   4.75   0.72   4.56   4.86   3.80   5.52   5.08  3.47   3.35   3.87\n",
       "201311   1.29   1.81   2.95   0.85   3.65   0.27   3.67  4.54  -1.81   4.74\n",
       "201312   2.65   1.18   3.13   2.95   4.04   3.96   0.20  0.71   1.79   3.11\n",
       "\n",
       "[120 rows x 10 columns]"
      ]
     },
     "execution_count": 3,
     "metadata": {},
     "output_type": "execute_result"
    }
   ],
   "source": [
    "data"
   ]
  },
  {
   "cell_type": "code",
   "execution_count": 4,
   "id": "5c5b7a38",
   "metadata": {},
   "outputs": [],
   "source": [
    "column_means = data.mean()"
   ]
  },
  {
   "cell_type": "code",
   "execution_count": 5,
   "id": "4e12ddb4",
   "metadata": {},
   "outputs": [
    {
     "data": {
      "text/plain": [
       "NoDur    0.902833\n",
       "Durbl    0.733333\n",
       "Manuf    1.012833\n",
       "Enrgy    1.231167\n",
       "HiTec    0.766250\n",
       "Telcm    0.881417\n",
       "Shops    0.916333\n",
       "Hlth     0.783833\n",
       "Utils    0.907167\n",
       "Other    0.489083\n",
       "dtype: float64"
      ]
     },
     "execution_count": 5,
     "metadata": {},
     "output_type": "execute_result"
    }
   ],
   "source": [
    "column_means"
   ]
  },
  {
   "cell_type": "code",
   "execution_count": 6,
   "id": "07050d0d",
   "metadata": {},
   "outputs": [],
   "source": [
    "column_stddevs = data.std()"
   ]
  },
  {
   "cell_type": "code",
   "execution_count": 7,
   "id": "498cd73f",
   "metadata": {},
   "outputs": [
    {
     "data": {
      "text/plain": [
       "NoDur    3.345657\n",
       "Durbl    8.361852\n",
       "Manuf    5.310270\n",
       "Enrgy    6.081524\n",
       "HiTec    5.381191\n",
       "Telcm    4.448284\n",
       "Shops    4.093786\n",
       "Hlth     3.787172\n",
       "Utils    3.701763\n",
       "Other    5.582452\n",
       "dtype: float64"
      ]
     },
     "execution_count": 7,
     "metadata": {},
     "output_type": "execute_result"
    }
   ],
   "source": [
    "column_stddevs"
   ]
  },
  {
   "cell_type": "code",
   "execution_count": 8,
   "id": "33477c51",
   "metadata": {},
   "outputs": [],
   "source": [
    "summary_df = pd.DataFrame({\"Mean\":column_means,\"Standard_deviation\":column_stddevs})"
   ]
  },
  {
   "cell_type": "code",
   "execution_count": 9,
   "id": "e3ba2803",
   "metadata": {},
   "outputs": [
    {
     "data": {
      "text/html": [
       "<div>\n",
       "<style scoped>\n",
       "    .dataframe tbody tr th:only-of-type {\n",
       "        vertical-align: middle;\n",
       "    }\n",
       "\n",
       "    .dataframe tbody tr th {\n",
       "        vertical-align: top;\n",
       "    }\n",
       "\n",
       "    .dataframe thead th {\n",
       "        text-align: right;\n",
       "    }\n",
       "</style>\n",
       "<table border=\"1\" class=\"dataframe\">\n",
       "  <thead>\n",
       "    <tr style=\"text-align: right;\">\n",
       "      <th></th>\n",
       "      <th>Mean</th>\n",
       "      <th>Standard_deviation</th>\n",
       "    </tr>\n",
       "  </thead>\n",
       "  <tbody>\n",
       "    <tr>\n",
       "      <th>NoDur</th>\n",
       "      <td>0.902833</td>\n",
       "      <td>3.345657</td>\n",
       "    </tr>\n",
       "    <tr>\n",
       "      <th>Durbl</th>\n",
       "      <td>0.733333</td>\n",
       "      <td>8.361852</td>\n",
       "    </tr>\n",
       "    <tr>\n",
       "      <th>Manuf</th>\n",
       "      <td>1.012833</td>\n",
       "      <td>5.310270</td>\n",
       "    </tr>\n",
       "    <tr>\n",
       "      <th>Enrgy</th>\n",
       "      <td>1.231167</td>\n",
       "      <td>6.081524</td>\n",
       "    </tr>\n",
       "    <tr>\n",
       "      <th>HiTec</th>\n",
       "      <td>0.766250</td>\n",
       "      <td>5.381191</td>\n",
       "    </tr>\n",
       "    <tr>\n",
       "      <th>Telcm</th>\n",
       "      <td>0.881417</td>\n",
       "      <td>4.448284</td>\n",
       "    </tr>\n",
       "    <tr>\n",
       "      <th>Shops</th>\n",
       "      <td>0.916333</td>\n",
       "      <td>4.093786</td>\n",
       "    </tr>\n",
       "    <tr>\n",
       "      <th>Hlth</th>\n",
       "      <td>0.783833</td>\n",
       "      <td>3.787172</td>\n",
       "    </tr>\n",
       "    <tr>\n",
       "      <th>Utils</th>\n",
       "      <td>0.907167</td>\n",
       "      <td>3.701763</td>\n",
       "    </tr>\n",
       "    <tr>\n",
       "      <th>Other</th>\n",
       "      <td>0.489083</td>\n",
       "      <td>5.582452</td>\n",
       "    </tr>\n",
       "  </tbody>\n",
       "</table>\n",
       "</div>"
      ],
      "text/plain": [
       "           Mean  Standard_deviation\n",
       "NoDur  0.902833            3.345657\n",
       "Durbl  0.733333            8.361852\n",
       "Manuf  1.012833            5.310270\n",
       "Enrgy  1.231167            6.081524\n",
       "HiTec  0.766250            5.381191\n",
       "Telcm  0.881417            4.448284\n",
       "Shops  0.916333            4.093786\n",
       "Hlth   0.783833            3.787172\n",
       "Utils  0.907167            3.701763\n",
       "Other  0.489083            5.582452"
      ]
     },
     "execution_count": 9,
     "metadata": {},
     "output_type": "execute_result"
    }
   ],
   "source": [
    "summary_df"
   ]
  },
  {
   "cell_type": "code",
   "execution_count": 10,
   "id": "12d30b9f",
   "metadata": {},
   "outputs": [
    {
     "data": {
      "text/plain": [
       "Mean                  0.902833\n",
       "Standard_deviation    3.345657\n",
       "Name: NoDur, dtype: float64"
      ]
     },
     "execution_count": 10,
     "metadata": {},
     "output_type": "execute_result"
    }
   ],
   "source": [
    "summary_df.iloc[0]"
   ]
  },
  {
   "cell_type": "code",
   "execution_count": 11,
   "id": "f44058bb",
   "metadata": {},
   "outputs": [
    {
     "data": {
      "text/plain": [
       "NoDur    0.902833\n",
       "Durbl    0.733333\n",
       "Manuf    1.012833\n",
       "Enrgy    1.231167\n",
       "HiTec    0.766250\n",
       "Telcm    0.881417\n",
       "Shops    0.916333\n",
       "Hlth     0.783833\n",
       "Utils    0.907167\n",
       "Other    0.489083\n",
       "Name: Mean, dtype: float64"
      ]
     },
     "execution_count": 11,
     "metadata": {},
     "output_type": "execute_result"
    }
   ],
   "source": [
    "summary_df[\"Mean\"]"
   ]
  },
  {
   "cell_type": "code",
   "execution_count": 12,
   "id": "f1121682",
   "metadata": {},
   "outputs": [
    {
     "data": {
      "text/plain": [
       "NoDur    3.345657\n",
       "Durbl    8.361852\n",
       "Manuf    5.310270\n",
       "Enrgy    6.081524\n",
       "HiTec    5.381191\n",
       "Telcm    4.448284\n",
       "Shops    4.093786\n",
       "Hlth     3.787172\n",
       "Utils    3.701763\n",
       "Other    5.582452\n",
       "Name: Standard_deviation, dtype: float64"
      ]
     },
     "execution_count": 12,
     "metadata": {},
     "output_type": "execute_result"
    }
   ],
   "source": [
    "summary_df[\"Standard_deviation\"]"
   ]
  },
  {
   "cell_type": "code",
   "execution_count": 13,
   "id": "3253b838",
   "metadata": {},
   "outputs": [],
   "source": [
    "mean_array = np.array(summary_df[\"Mean\"])"
   ]
  },
  {
   "cell_type": "code",
   "execution_count": 14,
   "id": "5fc85f23",
   "metadata": {},
   "outputs": [
    {
     "data": {
      "text/plain": [
       "(10,)"
      ]
     },
     "execution_count": 14,
     "metadata": {},
     "output_type": "execute_result"
    }
   ],
   "source": [
    "mean_array.shape"
   ]
  },
  {
   "cell_type": "code",
   "execution_count": 15,
   "id": "e07ffc2a",
   "metadata": {},
   "outputs": [],
   "source": [
    "tran_mean = mean_array.T"
   ]
  },
  {
   "cell_type": "code",
   "execution_count": 16,
   "id": "fa47098b",
   "metadata": {},
   "outputs": [
    {
     "data": {
      "text/plain": [
       "(10,)"
      ]
     },
     "execution_count": 16,
     "metadata": {},
     "output_type": "execute_result"
    }
   ],
   "source": [
    "tran_mean.shape"
   ]
  },
  {
   "cell_type": "code",
   "execution_count": 17,
   "id": "e25b24b7",
   "metadata": {},
   "outputs": [],
   "source": [
    "cov = data.cov()"
   ]
  },
  {
   "cell_type": "code",
   "execution_count": 18,
   "id": "38daee9b",
   "metadata": {},
   "outputs": [
    {
     "data": {
      "text/html": [
       "<div>\n",
       "<style scoped>\n",
       "    .dataframe tbody tr th:only-of-type {\n",
       "        vertical-align: middle;\n",
       "    }\n",
       "\n",
       "    .dataframe tbody tr th {\n",
       "        vertical-align: top;\n",
       "    }\n",
       "\n",
       "    .dataframe thead th {\n",
       "        text-align: right;\n",
       "    }\n",
       "</style>\n",
       "<table border=\"1\" class=\"dataframe\">\n",
       "  <thead>\n",
       "    <tr style=\"text-align: right;\">\n",
       "      <th></th>\n",
       "      <th>NoDur</th>\n",
       "      <th>Durbl</th>\n",
       "      <th>Manuf</th>\n",
       "      <th>Enrgy</th>\n",
       "      <th>HiTec</th>\n",
       "      <th>Telcm</th>\n",
       "      <th>Shops</th>\n",
       "      <th>Hlth</th>\n",
       "      <th>Utils</th>\n",
       "      <th>Other</th>\n",
       "    </tr>\n",
       "  </thead>\n",
       "  <tbody>\n",
       "    <tr>\n",
       "      <th>NoDur</th>\n",
       "      <td>11.193422</td>\n",
       "      <td>18.449666</td>\n",
       "      <td>14.104907</td>\n",
       "      <td>10.531341</td>\n",
       "      <td>12.922949</td>\n",
       "      <td>11.968078</td>\n",
       "      <td>10.170832</td>\n",
       "      <td>9.953112</td>\n",
       "      <td>7.866653</td>\n",
       "      <td>14.438409</td>\n",
       "    </tr>\n",
       "    <tr>\n",
       "      <th>Durbl</th>\n",
       "      <td>18.449666</td>\n",
       "      <td>69.920577</td>\n",
       "      <td>39.178097</td>\n",
       "      <td>27.019794</td>\n",
       "      <td>35.466652</td>\n",
       "      <td>27.490543</td>\n",
       "      <td>27.444731</td>\n",
       "      <td>16.824003</td>\n",
       "      <td>12.746136</td>\n",
       "      <td>39.361987</td>\n",
       "    </tr>\n",
       "    <tr>\n",
       "      <th>Manuf</th>\n",
       "      <td>14.104907</td>\n",
       "      <td>39.178097</td>\n",
       "      <td>28.198970</td>\n",
       "      <td>23.145380</td>\n",
       "      <td>24.618739</td>\n",
       "      <td>19.550150</td>\n",
       "      <td>17.622867</td>\n",
       "      <td>13.596447</td>\n",
       "      <td>11.440612</td>\n",
       "      <td>26.313423</td>\n",
       "    </tr>\n",
       "    <tr>\n",
       "      <th>Enrgy</th>\n",
       "      <td>10.531341</td>\n",
       "      <td>27.019794</td>\n",
       "      <td>23.145380</td>\n",
       "      <td>36.984933</td>\n",
       "      <td>19.267276</td>\n",
       "      <td>15.366817</td>\n",
       "      <td>11.297800</td>\n",
       "      <td>9.630327</td>\n",
       "      <td>14.027168</td>\n",
       "      <td>18.320469</td>\n",
       "    </tr>\n",
       "    <tr>\n",
       "      <th>HiTec</th>\n",
       "      <td>12.922949</td>\n",
       "      <td>35.466652</td>\n",
       "      <td>24.618739</td>\n",
       "      <td>19.267276</td>\n",
       "      <td>28.957220</td>\n",
       "      <td>18.708273</td>\n",
       "      <td>17.837115</td>\n",
       "      <td>13.254064</td>\n",
       "      <td>10.304187</td>\n",
       "      <td>23.855470</td>\n",
       "    </tr>\n",
       "    <tr>\n",
       "      <th>Telcm</th>\n",
       "      <td>11.968078</td>\n",
       "      <td>27.490543</td>\n",
       "      <td>19.550150</td>\n",
       "      <td>15.366817</td>\n",
       "      <td>18.708273</td>\n",
       "      <td>19.787227</td>\n",
       "      <td>14.169356</td>\n",
       "      <td>11.506599</td>\n",
       "      <td>10.991596</td>\n",
       "      <td>19.610836</td>\n",
       "    </tr>\n",
       "    <tr>\n",
       "      <th>Shops</th>\n",
       "      <td>10.170832</td>\n",
       "      <td>27.444731</td>\n",
       "      <td>17.622867</td>\n",
       "      <td>11.297800</td>\n",
       "      <td>17.837115</td>\n",
       "      <td>14.169356</td>\n",
       "      <td>16.759084</td>\n",
       "      <td>10.178849</td>\n",
       "      <td>6.694350</td>\n",
       "      <td>19.226524</td>\n",
       "    </tr>\n",
       "    <tr>\n",
       "      <th>Hlth</th>\n",
       "      <td>9.953112</td>\n",
       "      <td>16.824003</td>\n",
       "      <td>13.596447</td>\n",
       "      <td>9.630327</td>\n",
       "      <td>13.254064</td>\n",
       "      <td>11.506599</td>\n",
       "      <td>10.178849</td>\n",
       "      <td>14.342669</td>\n",
       "      <td>7.475036</td>\n",
       "      <td>14.864553</td>\n",
       "    </tr>\n",
       "    <tr>\n",
       "      <th>Utils</th>\n",
       "      <td>7.866653</td>\n",
       "      <td>12.746136</td>\n",
       "      <td>11.440612</td>\n",
       "      <td>14.027168</td>\n",
       "      <td>10.304187</td>\n",
       "      <td>10.991596</td>\n",
       "      <td>6.694350</td>\n",
       "      <td>7.475036</td>\n",
       "      <td>13.703052</td>\n",
       "      <td>9.992960</td>\n",
       "    </tr>\n",
       "    <tr>\n",
       "      <th>Other</th>\n",
       "      <td>14.438409</td>\n",
       "      <td>39.361987</td>\n",
       "      <td>26.313423</td>\n",
       "      <td>18.320469</td>\n",
       "      <td>23.855470</td>\n",
       "      <td>19.610836</td>\n",
       "      <td>19.226524</td>\n",
       "      <td>14.864553</td>\n",
       "      <td>9.992960</td>\n",
       "      <td>31.163771</td>\n",
       "    </tr>\n",
       "  </tbody>\n",
       "</table>\n",
       "</div>"
      ],
      "text/plain": [
       "           NoDur      Durbl      Manuf      Enrgy      HiTec      Telcm  \\\n",
       "NoDur  11.193422  18.449666  14.104907  10.531341  12.922949  11.968078   \n",
       "Durbl  18.449666  69.920577  39.178097  27.019794  35.466652  27.490543   \n",
       "Manuf  14.104907  39.178097  28.198970  23.145380  24.618739  19.550150   \n",
       "Enrgy  10.531341  27.019794  23.145380  36.984933  19.267276  15.366817   \n",
       "HiTec  12.922949  35.466652  24.618739  19.267276  28.957220  18.708273   \n",
       "Telcm  11.968078  27.490543  19.550150  15.366817  18.708273  19.787227   \n",
       "Shops  10.170832  27.444731  17.622867  11.297800  17.837115  14.169356   \n",
       "Hlth    9.953112  16.824003  13.596447   9.630327  13.254064  11.506599   \n",
       "Utils   7.866653  12.746136  11.440612  14.027168  10.304187  10.991596   \n",
       "Other  14.438409  39.361987  26.313423  18.320469  23.855470  19.610836   \n",
       "\n",
       "           Shops       Hlth      Utils      Other  \n",
       "NoDur  10.170832   9.953112   7.866653  14.438409  \n",
       "Durbl  27.444731  16.824003  12.746136  39.361987  \n",
       "Manuf  17.622867  13.596447  11.440612  26.313423  \n",
       "Enrgy  11.297800   9.630327  14.027168  18.320469  \n",
       "HiTec  17.837115  13.254064  10.304187  23.855470  \n",
       "Telcm  14.169356  11.506599  10.991596  19.610836  \n",
       "Shops  16.759084  10.178849   6.694350  19.226524  \n",
       "Hlth   10.178849  14.342669   7.475036  14.864553  \n",
       "Utils   6.694350   7.475036  13.703052   9.992960  \n",
       "Other  19.226524  14.864553   9.992960  31.163771  "
      ]
     },
     "execution_count": 18,
     "metadata": {},
     "output_type": "execute_result"
    }
   ],
   "source": [
    "cov"
   ]
  },
  {
   "cell_type": "code",
   "execution_count": 19,
   "id": "528fb09d",
   "metadata": {},
   "outputs": [],
   "source": [
    "cov_array = np.array(cov)"
   ]
  },
  {
   "cell_type": "code",
   "execution_count": 20,
   "id": "699faa8a",
   "metadata": {},
   "outputs": [
    {
     "data": {
      "text/plain": [
       "array([[11.19342216, 18.44966611, 14.10490703, 10.5313412 , 12.92294937,\n",
       "        11.96807831, 10.17083232,  9.95311174,  7.86665347, 14.4384085 ],\n",
       "       [18.44966611, 69.92057703, 39.1780972 , 27.0197944 , 35.4666521 ,\n",
       "        27.49054314, 27.44473081, 16.82400308, 12.74613641, 39.36198711],\n",
       "       [14.10490703, 39.1780972 , 28.19897006, 23.14537986, 24.61873929,\n",
       "        19.55014973, 17.62286678, 13.59644703, 11.4406123 , 26.31342279],\n",
       "       [10.5313412 , 27.0197944 , 23.14537986, 36.98493308, 19.26727584,\n",
       "        15.36681682, 11.29780011,  9.63032658, 14.02716804, 18.32046915],\n",
       "       [12.92294937, 35.4666521 , 24.61873929, 19.26727584, 28.95722027,\n",
       "        18.70827342, 17.83711471, 13.25406408, 10.30418676, 23.85547048],\n",
       "       [11.96807831, 27.49054314, 19.55014973, 15.36681682, 18.70827342,\n",
       "        19.78722739, 14.16935566, 11.50659873, 10.99159564, 19.61083576],\n",
       "       [10.17083232, 27.44473081, 17.62286678, 11.29780011, 17.83711471,\n",
       "        14.16935566, 16.75908392, 10.17884947,  6.69435003, 19.22652434],\n",
       "       [ 9.95311174, 16.82400308, 13.59644703,  9.63032658, 13.25406408,\n",
       "        11.50659873, 10.17884947, 14.34266922,  7.47503616, 14.86455312],\n",
       "       [ 7.86665347, 12.74613641, 11.4406123 , 14.02716804, 10.30418676,\n",
       "        10.99159564,  6.69435003,  7.47503616, 13.70305241,  9.99296041],\n",
       "       [14.4384085 , 39.36198711, 26.31342279, 18.32046915, 23.85547048,\n",
       "        19.61083576, 19.22652434, 14.86455312,  9.99296041, 31.16377142]])"
      ]
     },
     "execution_count": 20,
     "metadata": {},
     "output_type": "execute_result"
    }
   ],
   "source": [
    "cov_array"
   ]
  },
  {
   "cell_type": "code",
   "execution_count": 21,
   "id": "83f0f4ca",
   "metadata": {},
   "outputs": [],
   "source": [
    "inverse_cov = np.linalg.inv(cov_array)"
   ]
  },
  {
   "cell_type": "code",
   "execution_count": 22,
   "id": "f33607dd",
   "metadata": {},
   "outputs": [
    {
     "data": {
      "text/plain": [
       "(10, 10)"
      ]
     },
     "execution_count": 22,
     "metadata": {},
     "output_type": "execute_result"
    }
   ],
   "source": [
    "inverse_cov.shape"
   ]
  },
  {
   "cell_type": "code",
   "execution_count": 23,
   "id": "d71c06d8",
   "metadata": {},
   "outputs": [],
   "source": [
    "zeta = tran_mean@inverse_cov@mean_array"
   ]
  },
  {
   "cell_type": "code",
   "execution_count": 24,
   "id": "8cc4769c",
   "metadata": {},
   "outputs": [
    {
     "data": {
      "text/plain": [
       "0.19640858464482275"
      ]
     },
     "execution_count": 24,
     "metadata": {},
     "output_type": "execute_result"
    }
   ],
   "source": [
    "zeta"
   ]
  },
  {
   "cell_type": "code",
   "execution_count": 25,
   "id": "2932e005",
   "metadata": {},
   "outputs": [],
   "source": [
    "identity_matrix = np.ones(10)"
   ]
  },
  {
   "cell_type": "code",
   "execution_count": 26,
   "id": "bd459106",
   "metadata": {},
   "outputs": [
    {
     "data": {
      "text/plain": [
       "array([1., 1., 1., 1., 1., 1., 1., 1., 1., 1.])"
      ]
     },
     "execution_count": 26,
     "metadata": {},
     "output_type": "execute_result"
    }
   ],
   "source": [
    "identity_matrix"
   ]
  },
  {
   "cell_type": "code",
   "execution_count": 27,
   "id": "1597b47e",
   "metadata": {},
   "outputs": [],
   "source": [
    "tran_identity = identity_matrix.T"
   ]
  },
  {
   "cell_type": "code",
   "execution_count": 28,
   "id": "5a1899a3",
   "metadata": {},
   "outputs": [
    {
     "data": {
      "text/plain": [
       "0.1379432386993189"
      ]
     },
     "execution_count": 28,
     "metadata": {},
     "output_type": "execute_result"
    }
   ],
   "source": [
    "alepha = tran_mean@inverse_cov@identity_matrix\n",
    "alepha"
   ]
  },
  {
   "cell_type": "code",
   "execution_count": 29,
   "id": "0424b598",
   "metadata": {},
   "outputs": [
    {
     "data": {
      "text/plain": [
       "0.1373875973567117"
      ]
     },
     "execution_count": 29,
     "metadata": {},
     "output_type": "execute_result"
    }
   ],
   "source": [
    "delta = tran_identity@inverse_cov@identity_matrix\n",
    "delta"
   ]
  },
  {
   "cell_type": "code",
   "execution_count": 30,
   "id": "f936fec3",
   "metadata": {},
   "outputs": [],
   "source": [
    "Rmv = alepha/delta"
   ]
  },
  {
   "cell_type": "code",
   "execution_count": 31,
   "id": "0a6e2de4",
   "metadata": {},
   "outputs": [
    {
     "data": {
      "text/plain": [
       "1.0040443340832619"
      ]
     },
     "execution_count": 31,
     "metadata": {},
     "output_type": "execute_result"
    }
   ],
   "source": [
    "Rmv"
   ]
  },
  {
   "cell_type": "code",
   "execution_count": 32,
   "id": "f566a417",
   "metadata": {},
   "outputs": [],
   "source": [
    "def variance_computing(item):\n",
    "    return 1/delta+[delta/(zeta*delta-alepha*alepha)]*(item-Rmv)*(item-Rmv)"
   ]
  },
  {
   "cell_type": "code",
   "execution_count": 37,
   "id": "1dcda631",
   "metadata": {},
   "outputs": [],
   "source": [
    "result = variance_computing(rp)"
   ]
  },
  {
   "cell_type": "code",
   "execution_count": 38,
   "id": "769a7a6b",
   "metadata": {},
   "outputs": [
    {
     "data": {
      "text/plain": [
       "array([24.68757549, 23.30093492, 21.97183347, 20.70027116, 19.48624799,\n",
       "       18.32976395, 17.23081905, 16.18941328, 15.20554665, 14.27921915,\n",
       "       13.41043079, 12.59918156, 11.84547147, 11.14930051, 10.51066869,\n",
       "        9.92957601,  9.40602246,  8.94000804,  8.53153276,  8.18059662,\n",
       "        7.88719961,  7.65134173,  7.47302299,  7.35224339,  7.28900292,\n",
       "        7.28330159,  7.33513939,  7.44451633,  7.6114324 ,  7.83588761,\n",
       "        8.11788195,  8.45741543,  8.85448804,  9.30909979,  9.82125067,\n",
       "       10.39094069, 11.01816985, 11.70293814, 12.44524556, 13.24509212,\n",
       "       14.10247782, 15.01740265, 15.98986661, 17.01986971, 18.10741195,\n",
       "       19.25249332, 20.45511383, 21.71527347, 23.03297225, 24.40821016])"
      ]
     },
     "execution_count": 38,
     "metadata": {},
     "output_type": "execute_result"
    }
   ],
   "source": [
    "result"
   ]
  },
  {
   "cell_type": "code",
   "execution_count": 39,
   "id": "eac43b1b",
   "metadata": {},
   "outputs": [],
   "source": [
    "rp = np.linspace(0,2)"
   ]
  },
  {
   "cell_type": "code",
   "execution_count": 40,
   "id": "deed7af6",
   "metadata": {},
   "outputs": [
    {
     "data": {
      "text/plain": [
       "(50,)"
      ]
     },
     "execution_count": 40,
     "metadata": {},
     "output_type": "execute_result"
    }
   ],
   "source": [
    "rp.shape"
   ]
  },
  {
   "cell_type": "code",
   "execution_count": 41,
   "id": "1f95d8c6",
   "metadata": {},
   "outputs": [],
   "source": [
    "sqrt_result = np.sqrt(result)"
   ]
  },
  {
   "cell_type": "code",
   "execution_count": 42,
   "id": "c320e402",
   "metadata": {},
   "outputs": [
    {
     "data": {
      "text/plain": [
       "array([4.96865933, 4.8271042 , 4.68741224, 4.54975507, 4.41432305,\n",
       "       4.28132736, 4.15100217, 4.023607  , 3.89942902, 3.77878541,\n",
       "       3.6620255 , 3.54953258, 3.44172507, 3.33905683, 3.24201615,\n",
       "       3.15112298, 3.06692394, 2.98998462, 2.92087877, 2.86017423,\n",
       "       2.80841585, 2.76610588, 2.73368305, 2.71150205, 2.69981535,\n",
       "       2.69875927, 2.70834625, 2.7284641 , 2.75888245, 2.79926555,\n",
       "       2.8491897 , 2.90816358, 2.97564918, 3.05108174, 3.13388747,\n",
       "       3.22349821, 3.31936287, 3.42095573, 3.52778196, 3.63938073,\n",
       "       3.75532659, 3.87522937, 3.99873313, 4.12551448, 4.25528048,\n",
       "       4.38776632, 4.522733  , 4.65996496, 4.79926789, 4.94046659])"
      ]
     },
     "execution_count": 42,
     "metadata": {},
     "output_type": "execute_result"
    }
   ],
   "source": [
    "sqrt_result"
   ]
  },
  {
   "cell_type": "code",
   "execution_count": 85,
   "id": "2c5e7dca",
   "metadata": {},
   "outputs": [
    {
     "data": {
      "image/png": "[encoded data removed]",
      "text/plain": [
       "<Figure size 640x480 with 1 Axes>"
      ]
     },
     "metadata": {},
     "output_type": "display_data"
    }
   ],
   "source": [
    "plt.scatter(sqrt_result,rp)\n",
    "plt.plot(sqrt_result,rp,linestyle=\"-\",color=\"blue\")\n",
    "plt.xlabel(\"Standard deviation\")\n",
    "plt.ylabel(\"Return per month in percentage\")\n",
    "plt.show()"
   ]
  },
  {
   "cell_type": "code",
   "execution_count": 44,
   "id": "d4864d59",
   "metadata": {},
   "outputs": [],
   "source": [
    "#First of all,the minimum-variance frontier help us to understand the relationship between risk and return,it help the investor to\n",
    "#balance the return and risk\n",
    "#Second it help us to diverse our portfolio,by combining the risky asset and low risk asset,investor can create a portfolio that is more suitable for his or hers risk aversion"
   ]
  },
  {
   "cell_type": "code",
   "execution_count": 45,
   "id": "b6b57083",
   "metadata": {},
   "outputs": [],
   "source": [
    "rf = 0.13"
   ]
  },
  {
   "cell_type": "code",
   "execution_count": 46,
   "id": "746723d8",
   "metadata": {},
   "outputs": [],
   "source": [
    "def variance_computing1(item):\n",
    "    return ((item - rf) * (item - rf)) / (zeta - 2 * alepha * rf + delta * rf * rf)"
   ]
  },
  {
   "cell_type": "code",
   "execution_count": 47,
   "id": "796dac73",
   "metadata": {},
   "outputs": [
    {
     "data": {
      "text/plain": [
       "0.16286519297832827"
      ]
     },
     "execution_count": 47,
     "metadata": {},
     "output_type": "execute_result"
    }
   ],
   "source": [
    "zeta - 2 * alepha * rf + delta * rf * rf"
   ]
  },
  {
   "cell_type": "code",
   "execution_count": 48,
   "id": "77cb423e",
   "metadata": {},
   "outputs": [
    {
     "data": {
      "text/plain": [
       "0.1373875973567117"
      ]
     },
     "execution_count": 48,
     "metadata": {},
     "output_type": "execute_result"
    }
   ],
   "source": [
    "delta"
   ]
  },
  {
   "cell_type": "code",
   "execution_count": 49,
   "id": "4adf172f",
   "metadata": {},
   "outputs": [
    {
     "data": {
      "text/plain": [
       "array([1.69000000e-02, 7.95372761e-03, 2.33940025e-03, 5.70179092e-05,\n",
       "       1.10658059e-03, 5.48808830e-03, 1.32015410e-02, 2.42469388e-02,\n",
       "       3.86242815e-02, 5.63335693e-02, 7.73748022e-02, 1.01747980e-01,\n",
       "       1.29453103e-01, 1.60490171e-01, 1.94859184e-01, 2.32560142e-01,\n",
       "       2.73593045e-01, 3.17957893e-01, 3.65654686e-01, 4.16683424e-01,\n",
       "       4.71044107e-01, 5.28736735e-01, 5.89761308e-01, 6.54117826e-01,\n",
       "       7.21806289e-01, 7.92826697e-01, 8.67179050e-01, 9.44863349e-01,\n",
       "       1.02587959e+00, 1.11022778e+00, 1.19790791e+00, 1.28891999e+00,\n",
       "       1.38326401e+00, 1.48093998e+00, 1.58194790e+00, 1.68628776e+00,\n",
       "       1.79395956e+00, 1.90496331e+00, 2.01929900e+00, 2.13696664e+00,\n",
       "       2.25796622e+00, 2.38229775e+00, 2.50996122e+00, 2.64095664e+00,\n",
       "       2.77528401e+00, 2.91294332e+00, 3.05393457e+00, 3.19825777e+00,\n",
       "       3.34591291e+00, 3.49690000e+00])"
      ]
     },
     "execution_count": 49,
     "metadata": {},
     "output_type": "execute_result"
    }
   ],
   "source": [
    "(rp-rf)*(rp-rf)"
   ]
  },
  {
   "cell_type": "code",
   "execution_count": 50,
   "id": "a38614e9",
   "metadata": {},
   "outputs": [
    {
     "data": {
      "text/plain": [
       "array([1.69000000e-02, 7.95372761e-03, 2.33940025e-03, 5.70179092e-05,\n",
       "       1.10658059e-03, 5.48808830e-03, 1.32015410e-02, 2.42469388e-02,\n",
       "       3.86242815e-02, 5.63335693e-02, 7.73748022e-02, 1.01747980e-01,\n",
       "       1.29453103e-01, 1.60490171e-01, 1.94859184e-01, 2.32560142e-01,\n",
       "       2.73593045e-01, 3.17957893e-01, 3.65654686e-01, 4.16683424e-01,\n",
       "       4.71044107e-01, 5.28736735e-01, 5.89761308e-01, 6.54117826e-01,\n",
       "       7.21806289e-01, 7.92826697e-01, 8.67179050e-01, 9.44863349e-01,\n",
       "       1.02587959e+00, 1.11022778e+00, 1.19790791e+00, 1.28891999e+00,\n",
       "       1.38326401e+00, 1.48093998e+00, 1.58194790e+00, 1.68628776e+00,\n",
       "       1.79395956e+00, 1.90496331e+00, 2.01929900e+00, 2.13696664e+00,\n",
       "       2.25796622e+00, 2.38229775e+00, 2.50996122e+00, 2.64095664e+00,\n",
       "       2.77528401e+00, 2.91294332e+00, 3.05393457e+00, 3.19825777e+00,\n",
       "       3.34591291e+00, 3.49690000e+00])"
      ]
     },
     "execution_count": 50,
     "metadata": {},
     "output_type": "execute_result"
    }
   ],
   "source": [
    "(rp-rf)**2"
   ]
  },
  {
   "cell_type": "code",
   "execution_count": 51,
   "id": "f74c6634",
   "metadata": {},
   "outputs": [
    {
     "data": {
      "text/plain": [
       "array([1.03766801e-01, 4.88362643e-02, 1.43640284e-02, 3.50092664e-04,\n",
       "       6.79445725e-03, 3.36971221e-02, 8.10580873e-02, 1.48877353e-01,\n",
       "       2.37154918e-01, 3.45890784e-01, 4.75084951e-01, 6.24737417e-01,\n",
       "       7.94848184e-01, 9.85417251e-01, 1.19644462e+00, 1.42793029e+00,\n",
       "       1.67987425e+00, 1.95227652e+00, 2.24513709e+00, 2.55845596e+00,\n",
       "       2.89223313e+00, 3.24646860e+00, 3.62116237e+00, 4.01631444e+00,\n",
       "       4.43192481e+00, 4.86799348e+00, 5.32452045e+00, 5.80150572e+00,\n",
       "       6.29894929e+00, 6.81685116e+00, 7.35521133e+00, 7.91402981e+00,\n",
       "       8.49330658e+00, 9.09304165e+00, 9.71323502e+00, 1.03538867e+01,\n",
       "       1.10149967e+01, 1.16965649e+01, 1.23985915e+01, 1.31210764e+01,\n",
       "       1.38640196e+01, 1.46274210e+01, 1.54112808e+01, 1.62155989e+01,\n",
       "       1.70403753e+01, 1.78856099e+01, 1.87513029e+01, 1.96374542e+01,\n",
       "       2.05440638e+01, 2.14711317e+01])"
      ]
     },
     "execution_count": 51,
     "metadata": {},
     "output_type": "execute_result"
    }
   ],
   "source": [
    "result1 = variance_computing1(rp)\n",
    "result1"
   ]
  },
  {
   "cell_type": "code",
   "execution_count": 52,
   "id": "4049491f",
   "metadata": {},
   "outputs": [],
   "source": [
    "sqrt_result1 = np.sqrt(result1)"
   ]
  },
  {
   "cell_type": "code",
   "execution_count": 53,
   "id": "5db499d8",
   "metadata": {},
   "outputs": [],
   "source": [
    "rp[rp<1] = np.nan"
   ]
  },
  {
   "cell_type": "code",
   "execution_count": 100,
   "id": "6089459a",
   "metadata": {},
   "outputs": [],
   "source": [
    "a = np.linspace(0,2)"
   ]
  },
  {
   "cell_type": "code",
   "execution_count": 99,
   "id": "b255245e",
   "metadata": {},
   "outputs": [
    {
     "data": {
      "text/plain": [
       "array([       nan,        nan,        nan,        nan,        nan,\n",
       "              nan,        nan,        nan,        nan,        nan,\n",
       "              nan,        nan,        nan,        nan,        nan,\n",
       "              nan,        nan,        nan,        nan,        nan,\n",
       "              nan,        nan,        nan,        nan,        nan,\n",
       "       1.02040816, 1.06122449, 1.10204082, 1.14285714, 1.18367347,\n",
       "       1.2244898 , 1.26530612, 1.30612245, 1.34693878, 1.3877551 ,\n",
       "       1.42857143, 1.46938776, 1.51020408, 1.55102041, 1.59183673,\n",
       "       1.63265306, 1.67346939, 1.71428571, 1.75510204, 1.79591837,\n",
       "       1.83673469, 1.87755102, 1.91836735, 1.95918367, 2.        ])"
      ]
     },
     "execution_count": 99,
     "metadata": {},
     "output_type": "execute_result"
    }
   ],
   "source": [
    "rp"
   ]
  },
  {
   "cell_type": "code",
   "execution_count": 102,
   "id": "b20eee72",
   "metadata": {},
   "outputs": [
    {
     "data": {
      "text/plain": [
       "Text(0, 0.5, 'rp in % return per month')"
      ]
     },
     "execution_count": 102,
     "metadata": {},
     "output_type": "execute_result"
    },
    {
     "data": {
      "image/png": "[encoded data removed]",
      "text/plain": [
       "<Figure size 640x480 with 1 Axes>"
      ]
     },
     "metadata": {},
     "output_type": "display_data"
    }
   ],
   "source": [
    "\n",
    "plt.plot(sqrt_result,rp,label=\"without riskless\")\n",
    "plt.plot(sqrt_result1,a,label=\"with riskless\")\n",
    "plt.legend()\n",
    "plt.xlabel(\"Standerd deviation\")\n",
    "plt.ylabel(\"rp in % return per month\")"
   ]
  },
  {
   "cell_type": "code",
   "execution_count": 55,
   "id": "1b3b1712",
   "metadata": {},
   "outputs": [],
   "source": [
    "#The effective frontier provides a very good choice for investors to make portfolio investment. All points on the effective frontier curve are consistent with the given risk, and the return is higher. Or given the same return, the risk is lower.\n",
    "#Help us make better portfolio recommendations and determine the best asset allocation to meet their specific risk tolerance and investment goals. By choosing a portfolio point on the efficient frontier, investors can construct a risk-adjusted portfolio to achieve maximum return or minimum risk."
   ]
  },
  {
   "cell_type": "code",
   "execution_count": 56,
   "id": "73c580f4",
   "metadata": {},
   "outputs": [],
   "source": [
    "a = zeta-2*alepha*rf+delta*rf*rf"
   ]
  },
  {
   "cell_type": "code",
   "execution_count": 57,
   "id": "f9ce27a3",
   "metadata": {},
   "outputs": [
    {
     "data": {
      "text/plain": [
       "0.16286519297832827"
      ]
     },
     "execution_count": 57,
     "metadata": {},
     "output_type": "execute_result"
    }
   ],
   "source": [
    "a"
   ]
  },
  {
   "cell_type": "code",
   "execution_count": 58,
   "id": "dcb8e2d6",
   "metadata": {},
   "outputs": [],
   "source": [
    "sharp_ratio = np.sqrt(a)"
   ]
  },
  {
   "cell_type": "code",
   "execution_count": 59,
   "id": "d8f7fbfc",
   "metadata": {},
   "outputs": [
    {
     "data": {
      "text/plain": [
       "0.4035655993495088"
      ]
     },
     "execution_count": 59,
     "metadata": {},
     "output_type": "execute_result"
    }
   ],
   "source": [
    "sharp_ratio"
   ]
  },
  {
   "cell_type": "code",
   "execution_count": 60,
   "id": "abd270f4",
   "metadata": {},
   "outputs": [],
   "source": [
    "def weight_computing(item):\n",
    "    return ((delta*sharp_ration-alepha)/(zeta*delta-alepha**2))@inverse_cov@item+((zeta-alepha*rp)/(zeta*delta-alepha**2))@inverse_cov@identity_matrix"
   ]
  },
  {
   "cell_type": "code",
   "execution_count": 61,
   "id": "1f836bc0",
   "metadata": {},
   "outputs": [
    {
     "ename": "ValueError",
     "evalue": "matmul: Input operand 1 has a mismatch in its core dimension 0, with gufunc signature (n?,k),(k,m?)->(n?,m?) (size 10 is different from 50)",
     "output_type": "error",
     "traceback": [
      "\u001b[1;31m---------------------------------------------------------------------------\u001b[0m",
      "\u001b[1;31mValueError\u001b[0m                                Traceback (most recent call last)",
      "Cell \u001b[1;32mIn[61], line 1\u001b[0m\n\u001b[1;32m----> 1\u001b[0m weight \u001b[38;5;241m=\u001b[39m (delta\u001b[38;5;241m*\u001b[39mrp\u001b[38;5;241m-\u001b[39malepha)\u001b[38;5;241m/\u001b[39m(zeta\u001b[38;5;241m*\u001b[39mdelta\u001b[38;5;241m-\u001b[39malepha\u001b[38;5;241m*\u001b[39m\u001b[38;5;241m*\u001b[39m\u001b[38;5;241m2\u001b[39m)\u001b[38;5;129m@inverse_cov\u001b[39m\u001b[38;5;129m@data\u001b[39m\u001b[38;5;241m.\u001b[39mvalues\u001b[38;5;241m+\u001b[39m(zeta\u001b[38;5;241m-\u001b[39malepha\u001b[38;5;241m*\u001b[39mrp)\u001b[38;5;241m/\u001b[39m(zeta\u001b[38;5;241m*\u001b[39mdelta\u001b[38;5;241m-\u001b[39malepha\u001b[38;5;241m*\u001b[39m\u001b[38;5;241m*\u001b[39m\u001b[38;5;241m2\u001b[39m)\u001b[38;5;129m@inverse_cov\u001b[39m\u001b[38;5;129m@identity_matrix\u001b[39m\n",
      "\u001b[1;31mValueError\u001b[0m: matmul: Input operand 1 has a mismatch in its core dimension 0, with gufunc signature (n?,k),(k,m?)->(n?,m?) (size 10 is different from 50)"
     ]
    }
   ],
   "source": [
    "weight = (delta*rp-alepha)/(zeta*delta-alepha**2)@inverse_cov@data.values+(zeta-alepha*rp)/(zeta*delta-alepha**2)@inverse_cov@identity_matrix"
   ]
  },
  {
   "cell_type": "code",
   "execution_count": 62,
   "id": "1e81bb12",
   "metadata": {},
   "outputs": [
    {
     "ename": "NameError",
     "evalue": "name 'sharp_ration' is not defined",
     "output_type": "error",
     "traceback": [
      "\u001b[1;31m---------------------------------------------------------------------------\u001b[0m",
      "\u001b[1;31mNameError\u001b[0m                                 Traceback (most recent call last)",
      "Cell \u001b[1;32mIn[62], line 1\u001b[0m\n\u001b[1;32m----> 1\u001b[0m weight_computing(rp)\n",
      "Cell \u001b[1;32mIn[60], line 2\u001b[0m, in \u001b[0;36mweight_computing\u001b[1;34m(item)\u001b[0m\n\u001b[0;32m      1\u001b[0m \u001b[38;5;28;01mdef\u001b[39;00m \u001b[38;5;21mweight_computing\u001b[39m(item):\n\u001b[1;32m----> 2\u001b[0m     \u001b[38;5;28;01mreturn\u001b[39;00m ((delta\u001b[38;5;241m*\u001b[39msharp_ration\u001b[38;5;241m-\u001b[39malepha)\u001b[38;5;241m/\u001b[39m(zeta\u001b[38;5;241m*\u001b[39mdelta\u001b[38;5;241m-\u001b[39malepha\u001b[38;5;241m*\u001b[39m\u001b[38;5;241m*\u001b[39m\u001b[38;5;241m2\u001b[39m))\u001b[38;5;129m@inverse_cov\u001b[39m\u001b[38;5;129m@item\u001b[39m\u001b[38;5;241m+\u001b[39m((zeta\u001b[38;5;241m-\u001b[39malepha\u001b[38;5;241m*\u001b[39mrp)\u001b[38;5;241m/\u001b[39m(zeta\u001b[38;5;241m*\u001b[39mdelta\u001b[38;5;241m-\u001b[39malepha\u001b[38;5;241m*\u001b[39m\u001b[38;5;241m*\u001b[39m\u001b[38;5;241m2\u001b[39m))\u001b[38;5;129m@inverse_cov\u001b[39m\u001b[38;5;129m@identity_matrix\u001b[39m\n",
      "\u001b[1;31mNameError\u001b[0m: name 'sharp_ration' is not defined"
     ]
    }
   ],
   "source": [
    "weight_computing(rp)"
   ]
  },
  {
   "cell_type": "code",
   "execution_count": null,
   "id": "4804a16a",
   "metadata": {},
   "outputs": [],
   "source": [
    "weight"
   ]
  },
  {
   "cell_type": "code",
   "execution_count": 63,
   "id": "9a27c576",
   "metadata": {},
   "outputs": [],
   "source": [
    "rp = rp.reshape(50)"
   ]
  },
  {
   "cell_type": "code",
   "execution_count": 64,
   "id": "336cda31",
   "metadata": {},
   "outputs": [
    {
     "data": {
      "text/plain": [
       "(10,)"
      ]
     },
     "execution_count": 64,
     "metadata": {},
     "output_type": "execute_result"
    }
   ],
   "source": [
    "mean_array.shape"
   ]
  },
  {
   "cell_type": "code",
   "execution_count": 65,
   "id": "f4ef7010",
   "metadata": {},
   "outputs": [
    {
     "data": {
      "text/plain": [
       "(10,)"
      ]
     },
     "execution_count": 65,
     "metadata": {},
     "output_type": "execute_result"
    }
   ],
   "source": [
    "identity_matrix.shape"
   ]
  },
  {
   "cell_type": "code",
   "execution_count": 66,
   "id": "117608d6",
   "metadata": {},
   "outputs": [],
   "source": [
    "a = inverse_cov*mean_array"
   ]
  },
  {
   "cell_type": "code",
   "execution_count": 67,
   "id": "cbdeabe4",
   "metadata": {},
   "outputs": [
    {
     "data": {
      "text/plain": [
       "(10, 10)"
      ]
     },
     "execution_count": 67,
     "metadata": {},
     "output_type": "execute_result"
    }
   ],
   "source": [
    "a.shape"
   ]
  },
  {
   "cell_type": "code",
   "execution_count": 68,
   "id": "3bf7684a",
   "metadata": {},
   "outputs": [],
   "source": [
    "b = inverse_cov*identity_matrix"
   ]
  },
  {
   "cell_type": "code",
   "execution_count": 69,
   "id": "33b27201",
   "metadata": {},
   "outputs": [
    {
     "data": {
      "text/plain": [
       "(10, 10)"
      ]
     },
     "execution_count": 69,
     "metadata": {},
     "output_type": "execute_result"
    }
   ],
   "source": [
    "b.shape"
   ]
  },
  {
   "cell_type": "code",
   "execution_count": 70,
   "id": "1c009593",
   "metadata": {},
   "outputs": [],
   "source": [
    "rtg = np.linspace(0,2,100)"
   ]
  },
  {
   "cell_type": "code",
   "execution_count": 71,
   "id": "5b8fc926",
   "metadata": {},
   "outputs": [],
   "source": [
    "rtg = rtg.reshape(10,10)"
   ]
  },
  {
   "cell_type": "code",
   "execution_count": 72,
   "id": "d58fcc8b",
   "metadata": {},
   "outputs": [
    {
     "data": {
      "text/plain": [
       "array([ 0.07791149, -0.02766315,  0.08305361,  0.01368291, -0.04495921,\n",
       "       -0.01412832,  0.12960448,  0.01162731,  0.02156041, -0.11274628])"
      ]
     },
     "execution_count": 72,
     "metadata": {},
     "output_type": "execute_result"
    }
   ],
   "source": [
    "inverse_cov@mean_array"
   ]
  },
  {
   "cell_type": "code",
   "execution_count": 73,
   "id": "7442fab6",
   "metadata": {},
   "outputs": [
    {
     "data": {
      "text/plain": [
       "array([ 0.07467516, -0.01505157, -0.02075515,  0.00910631, -0.01012708,\n",
       "       -0.02049861,  0.08095927,  0.01963554,  0.0433248 , -0.02388107])"
      ]
     },
     "execution_count": 73,
     "metadata": {},
     "output_type": "execute_result"
    }
   ],
   "source": [
    "inverse_cov@identity_matrix"
   ]
  },
  {
   "cell_type": "code",
   "execution_count": 74,
   "id": "2b19f9a2",
   "metadata": {},
   "outputs": [],
   "source": [
    "c = zeta-alepha*rp"
   ]
  },
  {
   "cell_type": "code",
   "execution_count": 75,
   "id": "304b2fb6",
   "metadata": {},
   "outputs": [
    {
     "data": {
      "text/plain": [
       "(50,)"
      ]
     },
     "execution_count": 75,
     "metadata": {},
     "output_type": "execute_result"
    }
   ],
   "source": [
    "c.shape"
   ]
  },
  {
   "cell_type": "code",
   "execution_count": 76,
   "id": "231fe9cf",
   "metadata": {},
   "outputs": [
    {
     "data": {
      "text/plain": [
       "dtype('float64')"
      ]
     },
     "execution_count": 76,
     "metadata": {},
     "output_type": "execute_result"
    }
   ],
   "source": [
    "inverse_cov.dtype"
   ]
  },
  {
   "cell_type": "code",
   "execution_count": 77,
   "id": "ac3a0f4a",
   "metadata": {},
   "outputs": [],
   "source": [
    "#The tangency portfolio is considered the optimal portfolio for an investor seeking to maximize their risk-adjusted returns. It provides a balance between risk and return, making it a desirable choice for investors who aim to optimize their investment allocations."
   ]
  },
  {
   "cell_type": "code",
   "execution_count": 78,
   "id": "76df96dc",
   "metadata": {},
   "outputs": [
    {
     "data": {
      "text/plain": [
       "array([[ 0.06, -1.07, -0.62, ...,  3.09,  1.92,  2.88],\n",
       "       [ 4.25, -0.07,  1.95, ...,  0.89,  2.07,  2.16],\n",
       "       [-0.09, -1.15, -0.27, ..., -3.96,  1.13, -0.63],\n",
       "       ...,\n",
       "       [ 4.75,  0.72,  4.56, ...,  3.47,  3.35,  3.87],\n",
       "       [ 1.29,  1.81,  2.95, ...,  4.54, -1.81,  4.74],\n",
       "       [ 2.65,  1.18,  3.13, ...,  0.71,  1.79,  3.11]])"
      ]
     },
     "execution_count": 78,
     "metadata": {},
     "output_type": "execute_result"
    }
   ],
   "source": [
    "data.values"
   ]
  },
  {
   "cell_type": "code",
   "execution_count": 79,
   "id": "cf51b1ff",
   "metadata": {},
   "outputs": [],
   "source": [
    "rtg = (alepha*rf-zeta)/(delta*rf-alepha)"
   ]
  },
  {
   "cell_type": "code",
   "execution_count": 80,
   "id": "f661d926",
   "metadata": {},
   "outputs": [
    {
     "data": {
      "text/plain": [
       "1.4862735358446912"
      ]
     },
     "execution_count": 80,
     "metadata": {},
     "output_type": "execute_result"
    }
   ],
   "source": [
    "rtg"
   ]
  },
  {
   "cell_type": "code",
   "execution_count": 81,
   "id": "023d1030",
   "metadata": {},
   "outputs": [],
   "source": [
    "weight = (delta*rtg-alepha)/(zeta*delta-alepha**2)*inverse_cov@mean_array+(zeta-alepha*rtg)/(zeta*delta-alepha**2)*inverse_cov@identity_matrix"
   ]
  },
  {
   "cell_type": "code",
   "execution_count": 82,
   "id": "f918f6aa",
   "metadata": {},
   "outputs": [
    {
     "data": {
      "text/plain": [
       "array([ 0.56797218, -0.2140726 ,  0.71410511,  0.10408719, -0.36343817,\n",
       "       -0.09546326,  0.99164683,  0.0755702 ,  0.13264333, -0.91305081])"
      ]
     },
     "execution_count": 82,
     "metadata": {},
     "output_type": "execute_result"
    }
   ],
   "source": [
    "weight"
   ]
  },
  {
   "cell_type": "code",
   "execution_count": null,
   "id": "c8f5f951",
   "metadata": {},
   "outputs": [],
   "source": []
  }
 ],
 "metadata": {
  "kernelspec": {
   "display_name": "Python 3 (ipykernel)",
   "language": "python",
   "name": "python3"
  },
  "language_info": {
   "codemirror_mode": {
    "name": "ipython",
    "version": 3
   },
   "file_extension": ".py",
   "mimetype": "text/x-python",
   "name": "python",
   "nbconvert_exporter": "python",
   "pygments_lexer": "ipython3",
   "version": "3.11.4"
  }
 },
 "nbformat": 4,
 "nbformat_minor": 5
}
