{
 "cells": [
  {
   "cell_type": "code",
   "execution_count": 1,
   "id": "02b4dd0d",
   "metadata": {},
   "outputs": [],
   "source": [
    "import numpy as np\n",
    "import pandas as pd\n",
    "from pandas import Series,DataFrame\n",
    "from matplotlib import pyplot as plt\n",
    "from scipy.stats import linregress\n",
    "from sklearn import linear_model"
   ]
  },
  {
   "cell_type": "code",
   "execution_count": 2,
   "id": "08a2a076",
   "metadata": {},
   "outputs": [
    {
     "data": {
      "text/plain": [
       "array([-1.24876728, -0.36652639,  1.23558791, ..., -0.29948935,\n",
       "        0.59796523, -2.54661951])"
      ]
     },
     "execution_count": 2,
     "metadata": {},
     "output_type": "execute_result"
    }
   ],
   "source": [
    "error = np.random.randn(10**4)\n",
    "error"
   ]
  },
  {
   "cell_type": "code",
   "execution_count": 3,
   "id": "5e11eb41",
   "metadata": {},
   "outputs": [
    {
     "data": {
      "text/plain": [
       "array([-0.00497535,  0.01266947,  0.04471176, ...,  0.01401021,\n",
       "        0.0319593 , -0.03093239])"
      ]
     },
     "execution_count": 3,
     "metadata": {},
     "output_type": "execute_result"
    }
   ],
   "source": [
    "lng = 0.02+0.02*error\n",
    "lng"
   ]
  },
  {
   "cell_type": "code",
   "execution_count": 4,
   "id": "f14200b0",
   "metadata": {},
   "outputs": [
    {
     "data": {
      "text/plain": [
       "array([0.99503701, 1.01275007, 1.04572639, ..., 1.01410882, 1.03247549,\n",
       "       0.96954112])"
      ]
     },
     "execution_count": 4,
     "metadata": {},
     "output_type": "execute_result"
    }
   ],
   "source": [
    "g = np.exp(lng)\n",
    "g"
   ]
  },
  {
   "cell_type": "code",
   "execution_count": 5,
   "id": "9219c692",
   "metadata": {},
   "outputs": [],
   "source": [
    "rf = 1.0303"
   ]
  },
  {
   "cell_type": "code",
   "execution_count": 6,
   "id": "46e7e03f",
   "metadata": {},
   "outputs": [
    {
     "data": {
      "text/plain": [
       "array([ 0. ,  0.1,  0.2,  0.3,  0.4,  0.5,  0.6,  0.7,  0.8,  0.9,  1. ,\n",
       "        1.1,  1.2,  1.3,  1.4,  1.5,  1.6,  1.7,  1.8,  1.9,  2. ,  2.1,\n",
       "        2.2,  2.3,  2.4,  2.5,  2.6,  2.7,  2.8,  2.9,  3. ,  3.1,  3.2,\n",
       "        3.3,  3.4,  3.5,  3.6,  3.7,  3.8,  3.9,  4. ,  4.1,  4.2,  4.3,\n",
       "        4.4,  4.5,  4.6,  4.7,  4.8,  4.9,  5. ,  5.1,  5.2,  5.3,  5.4,\n",
       "        5.5,  5.6,  5.7,  5.8,  5.9,  6. ,  6.1,  6.2,  6.3,  6.4,  6.5,\n",
       "        6.6,  6.7,  6.8,  6.9,  7. ,  7.1,  7.2,  7.3,  7.4,  7.5,  7.6,\n",
       "        7.7,  7.8,  7.9,  8. ,  8.1,  8.2,  8.3,  8.4,  8.5,  8.6,  8.7,\n",
       "        8.8,  8.9,  9. ,  9.1,  9.2,  9.3,  9.4,  9.5,  9.6,  9.7,  9.8,\n",
       "        9.9, 10. ])"
      ]
     },
     "execution_count": 6,
     "metadata": {},
     "output_type": "execute_result"
    }
   ],
   "source": [
    "b0 = np.arange(0,10.1,0.1)\n",
    "b0"
   ]
  },
  {
   "cell_type": "code",
   "execution_count": 7,
   "id": "9fbfd7ec",
   "metadata": {},
   "outputs": [],
   "source": [
    "def v(x):\n",
    "    v_list = []\n",
    "    for i in g:\n",
    "        if x*i>=1.0303:\n",
    "            y = x*i-1.0303\n",
    "        else:\n",
    "            y = 2*(x*i-1.0303)\n",
    "        v_list.append(y)\n",
    "    return v_list"
   ]
  },
  {
   "cell_type": "code",
   "execution_count": 8,
   "id": "1f138af8",
   "metadata": {},
   "outputs": [],
   "source": [
    "def e(x,b):\n",
    "    output = 0.99*b*np.mean(v(x))+0.99*x-1\n",
    "    return output"
   ]
  },
  {
   "cell_type": "code",
   "execution_count": 9,
   "id": "378ad0d3",
   "metadata": {},
   "outputs": [],
   "source": [
    "x_list = []\n",
    "for b in b0:\n",
    "    upper = 1.1\n",
    "    lower = 1.0\n",
    "    output = e((upper+lower)/2, b)\n",
    "    while abs(output) > 1e-5:\n",
    "        if output>0:\n",
    "            upper=(lower+upper)/2\n",
    "            output = e((lower+upper)/2,b)\n",
    "        else:\n",
    "            lower=(lower+upper)/2\n",
    "            output = e((lower+upper)/2,b)\n",
    "    x_list.append((upper+lower)/2)"
   ]
  },
  {
   "cell_type": "code",
   "execution_count": 10,
   "id": "dc9490b9",
   "metadata": {},
   "outputs": [
    {
     "data": {
      "text/plain": [
       "list"
      ]
     },
     "execution_count": 10,
     "metadata": {},
     "output_type": "execute_result"
    }
   ],
   "source": [
    "type(x_list)"
   ]
  },
  {
   "cell_type": "code",
   "execution_count": 11,
   "id": "d2dfc5a7",
   "metadata": {},
   "outputs": [
    {
     "data": {
      "text/plain": [
       "array([1.01010742, 1.01079102, 1.01132812, 1.01175537, 1.01209717,\n",
       "       1.01239014, 1.01263428, 1.0128418 , 1.0130188 , 1.01317749,\n",
       "       1.01331787, 1.01343994, 1.0135498 , 1.01364746, 1.01373901,\n",
       "       1.01381836, 1.01389771, 1.01396484, 1.01402588, 1.01408691,\n",
       "       1.01414185, 1.01419067, 1.01423645, 1.01428223, 1.0143219 ,\n",
       "       1.01436157, 1.01439514, 1.01442871, 1.01446228, 1.0144928 ,\n",
       "       1.01452026, 1.01454773, 1.01457214, 1.01459656, 1.01462097,\n",
       "       1.01464233, 1.0146637 , 1.01468506, 1.01470337, 1.01472168,\n",
       "       1.01473999, 1.01475525, 1.01477356, 1.01478882, 1.01480408,\n",
       "       1.01481781, 1.01483154, 1.01484375, 1.01485901, 1.01487122,\n",
       "       1.01488342, 1.0148941 , 1.01490479, 1.01491699, 1.01492615,\n",
       "       1.0149353 , 1.01494598, 1.01495667, 1.01496582, 1.01497345,\n",
       "       1.0149826 , 1.01499023, 1.01499939, 1.01500702, 1.01501465,\n",
       "       1.01502228, 1.01502991, 1.01503601, 1.01504364, 1.01504974,\n",
       "       1.01505737, 1.01506348, 1.01506958, 1.01507568, 1.01508179,\n",
       "       1.01508789, 1.01509247, 1.01509857, 1.01510315, 1.01510925,\n",
       "       1.01511383, 1.01511841, 1.01512451, 1.01512909, 1.01513367,\n",
       "       1.01513824, 1.01514282, 1.0151474 , 1.01515121, 1.01515503,\n",
       "       1.01515961, 1.01516418, 1.01516724, 1.01517181, 1.01517487,\n",
       "       1.01517944, 1.0151825 , 1.01518555, 1.01519012, 1.01519318,\n",
       "       1.01519623])"
      ]
     },
     "execution_count": 11,
     "metadata": {},
     "output_type": "execute_result"
    }
   ],
   "source": [
    "x_array = np.array(x_list)\n",
    "x_array"
   ]
  },
  {
   "cell_type": "code",
   "execution_count": 12,
   "id": "d441aa10",
   "metadata": {},
   "outputs": [
    {
     "data": {
      "text/plain": [
       "array([-0.01000628, -0.01067581, -0.01120124, -0.01161879, -0.01195258,\n",
       "       -0.0122385 , -0.01247664, -0.01267898, -0.01285149, -0.0130061 ,\n",
       "       -0.01314284, -0.0132617 , -0.01336866, -0.01346372, -0.01355281,\n",
       "       -0.01363001, -0.01370721, -0.01377251, -0.01383187, -0.01389123,\n",
       "       -0.01394464, -0.01399212, -0.01403662, -0.01408112, -0.01411968,\n",
       "       -0.01415824, -0.01419086, -0.01422348, -0.0142561 , -0.01428576,\n",
       "       -0.01431244, -0.01433913, -0.01436285, -0.01438656, -0.01441028,\n",
       "       -0.01443103, -0.01445178, -0.01447253, -0.01449031, -0.0145081 ,\n",
       "       -0.01452588, -0.0145407 , -0.01455848, -0.0145733 , -0.01458811,\n",
       "       -0.01460145, -0.01461478, -0.01462664, -0.01464145, -0.0146533 ,\n",
       "       -0.01466516, -0.01467553, -0.0146859 , -0.01469775, -0.01470663,\n",
       "       -0.01471552, -0.01472589, -0.01473626, -0.01474515, -0.01475255,\n",
       "       -0.01476144, -0.01476885, -0.01477773, -0.01478514, -0.01479254,\n",
       "       -0.01479995, -0.01480735, -0.01481328, -0.01482068, -0.01482661,\n",
       "       -0.01483401, -0.01483994, -0.01484586, -0.01485178, -0.01485771,\n",
       "       -0.01486363, -0.01486807, -0.014874  , -0.01487844, -0.01488436,\n",
       "       -0.0148888 , -0.01489325, -0.01489917, -0.01490361, -0.01490805,\n",
       "       -0.0149125 , -0.01491694, -0.01492138, -0.01492508, -0.01492878,\n",
       "       -0.01493323, -0.01493767, -0.01494063, -0.01494507, -0.01494803,\n",
       "       -0.01495247, -0.01495543, -0.0149584 , -0.01496284, -0.0149658 ,\n",
       "       -0.01496876])"
      ]
     },
     "execution_count": 12,
     "metadata": {},
     "output_type": "execute_result"
    }
   ],
   "source": [
    "pd_ratio = 1/x_array-1\n",
    "pd_ratio"
   ]
  },
  {
   "cell_type": "code",
   "execution_count": 13,
   "id": "0c6af47d",
   "metadata": {},
   "outputs": [
    {
     "data": {
      "image/png": "[encoded data removed]",
      "text/plain": [
       "<Figure size 640x480 with 1 Axes>"
      ]
     },
     "metadata": {},
     "output_type": "display_data"
    }
   ],
   "source": [
    "plt.plot(b0,pd_ratio)\n",
    "plt.xlabel(\"b0\")\n",
    "plt.ylabel(\"P/D ratio\")\n",
    "plt.show()"
   ]
  },
  {
   "cell_type": "code",
   "execution_count": 14,
   "id": "4813de42",
   "metadata": {},
   "outputs": [],
   "source": [
    "import math"
   ]
  },
  {
   "cell_type": "code",
   "execution_count": 15,
   "id": "47a39c17",
   "metadata": {},
   "outputs": [
    {
     "data": {
      "text/plain": [
       "array([1.03071907, 1.03141661, 1.03196468, 1.03240064, 1.03274942,\n",
       "       1.03304836, 1.03329749, 1.03350924, 1.03368985, 1.03385178,\n",
       "       1.03399503, 1.03411959, 1.03423169, 1.03433134, 1.03442476,\n",
       "       1.03450573, 1.03458669, 1.0346552 , 1.03471748, 1.03477976,\n",
       "       1.03483582, 1.03488564, 1.03493235, 1.03497906, 1.03501954,\n",
       "       1.03506003, 1.03509428, 1.03512854, 1.03516279, 1.03519393,\n",
       "       1.03522196, 1.03524998, 1.03527489, 1.03529981, 1.03532472,\n",
       "       1.03534652, 1.03536832, 1.03539011, 1.0354088 , 1.03542748,\n",
       "       1.03544617, 1.03546174, 1.03548042, 1.03549599, 1.03551156,\n",
       "       1.03552557, 1.03553959, 1.03555204, 1.03556761, 1.03558007,\n",
       "       1.03559253, 1.03560342, 1.03561432, 1.03562678, 1.03563612,\n",
       "       1.03564546, 1.03565636, 1.03566726, 1.0356766 , 1.03568439,\n",
       "       1.03569373, 1.03570152, 1.03571086, 1.03571864, 1.03572643,\n",
       "       1.03573421, 1.035742  , 1.03574823, 1.03575601, 1.03576224,\n",
       "       1.03577003, 1.03577625, 1.03578248, 1.03578871, 1.03579494,\n",
       "       1.03580117, 1.03580584, 1.03581206, 1.03581674, 1.03582296,\n",
       "       1.03582764, 1.03583231, 1.03583853, 1.03584321, 1.03584788,\n",
       "       1.03585255, 1.03585722, 1.03586189, 1.03586578, 1.03586967,\n",
       "       1.03587435, 1.03587902, 1.03588213, 1.0358868 , 1.03588992,\n",
       "       1.03589459, 1.0358977 , 1.03590081, 1.03590549, 1.0359086 ,\n",
       "       1.03591171])"
      ]
     },
     "execution_count": 15,
     "metadata": {},
     "output_type": "execute_result"
    }
   ],
   "source": [
    "equity_premium = x_array*math.exp(0.0202)\n",
    "equity_premium"
   ]
  },
  {
   "cell_type": "code",
   "execution_count": 16,
   "id": "0abd4a93",
   "metadata": {},
   "outputs": [
    {
     "data": {
      "image/png": "[encoded data removed]",
      "text/plain": [
       "<Figure size 640x480 with 1 Axes>"
      ]
     },
     "metadata": {},
     "output_type": "display_data"
    }
   ],
   "source": [
    "plt.plot(b0,equity_premium-rf)\n",
    "plt.xlabel(\"b0\")\n",
    "plt.ylabel(\"Equity_Premium\")\n",
    "plt.show()"
   ]
  }
 ],
 "metadata": {
  "kernelspec": {
   "display_name": "Python 3 (ipykernel)",
   "language": "python",
   "name": "python3"
  },
  "language_info": {
   "codemirror_mode": {
    "name": "ipython",
    "version": 3
   },
   "file_extension": ".py",
   "mimetype": "text/x-python",
   "name": "python",
   "nbconvert_exporter": "python",
   "pygments_lexer": "ipython3",
   "version": "3.11.4"
  }
 },
 "nbformat": 4,
 "nbformat_minor": 5
}
